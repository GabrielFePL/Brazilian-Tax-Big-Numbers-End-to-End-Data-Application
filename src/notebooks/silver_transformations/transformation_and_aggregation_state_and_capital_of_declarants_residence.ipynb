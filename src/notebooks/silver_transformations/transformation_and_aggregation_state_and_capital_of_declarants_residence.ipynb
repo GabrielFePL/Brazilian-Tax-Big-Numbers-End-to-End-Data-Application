{
 "cells": [
  {
   "cell_type": "markdown",
   "metadata": {
    "application/vnd.databricks.v1+cell": {
     "cellMetadata": {
      "byteLimit": 2048000,
      "rowLimit": 10000
     },
     "inputWidgets": {},
     "nuid": "2a4317d7-b14f-4c3f-98ef-8b0e83bf105d",
     "showTitle": false,
     "tableResultSettingsMap": {},
     "title": ""
    }
   },
   "source": [
    "# Data Transformation and Aggregation by Identifier \"Ano e Estado\""
   ]
  },
  {
   "cell_type": "markdown",
   "metadata": {
    "application/vnd.databricks.v1+cell": {
     "cellMetadata": {
      "byteLimit": 2048000,
      "rowLimit": 10000
     },
     "inputWidgets": {},
     "nuid": "36038481-7337-48e6-b41e-34c2dccea9a2",
     "showTitle": false,
     "tableResultSettingsMap": {},
     "title": ""
    }
   },
   "source": [
    "## Environment Configuration"
   ]
  },
  {
   "cell_type": "code",
   "execution_count": 0,
   "metadata": {
    "application/vnd.databricks.v1+cell": {
     "cellMetadata": {
      "byteLimit": 2048000,
      "rowLimit": 10000
     },
     "inputWidgets": {},
     "nuid": "ee6f2e8b-0d35-4e25-8f3e-f6365f30173c",
     "showTitle": false,
     "tableResultSettingsMap": {},
     "title": ""
    }
   },
   "outputs": [],
   "source": [
    "from pyspark.sql.utils import AnalysisException\n",
    "from pyspark.sql.functions import udf\n",
    "from pyspark.sql.types import StringType, StructField, StructType\n",
    "from src.utils.udfs import functions_for_df_structure_management as ffdsm"
   ]
  },
  {
   "cell_type": "markdown",
   "metadata": {
    "application/vnd.databricks.v1+cell": {
     "cellMetadata": {
      "byteLimit": 2048000,
      "rowLimit": 10000
     },
     "inputWidgets": {},
     "nuid": "ae287f19-54de-4d3c-bfce-5e5969674fde",
     "showTitle": false,
     "tableResultSettingsMap": {},
     "title": ""
    }
   },
   "source": [
    "## Data Ingestion from Bronze Layer"
   ]
  },
  {
   "cell_type": "code",
   "execution_count": 0,
   "metadata": {
    "application/vnd.databricks.v1+cell": {
     "cellMetadata": {
      "byteLimit": 2048000,
      "rowLimit": 10000
     },
     "inputWidgets": {},
     "nuid": "f7f1f353-c51a-4caa-97dd-a7d96533539f",
     "showTitle": false,
     "tableResultSettingsMap": {},
     "title": ""
    }
   },
   "outputs": [],
   "source": [
    "df_state_declarants_resindece = spark.table(\"brazilian_tax_big_numbers.bronze_layer.delta_estado_de_residencia_do_declarante\")"
   ]
  },
  {
   "cell_type": "code",
   "execution_count": 0,
   "metadata": {
    "application/vnd.databricks.v1+cell": {
     "cellMetadata": {
      "byteLimit": 2048000,
      "rowLimit": 10000
     },
     "inputWidgets": {},
     "nuid": "6aecd966-0135-4d36-8d6a-06467f57b840",
     "showTitle": false,
     "tableResultSettingsMap": {},
     "title": ""
    }
   },
   "outputs": [],
   "source": [
    "df_state_capital_declarants_resindece = spark.table(\"brazilian_tax_big_numbers.bronze_layer.delta_capital_de_estado_de_residencia_do_declarante\")"
   ]
  },
  {
   "cell_type": "code",
   "execution_count": 0,
   "metadata": {
    "application/vnd.databricks.v1+cell": {
     "cellMetadata": {
      "byteLimit": 2048000,
      "rowLimit": 10000
     },
     "inputWidgets": {},
     "nuid": "10de2b49-286b-4c73-854f-4deeebe40dfa",
     "showTitle": false,
     "tableResultSettingsMap": {},
     "title": ""
    }
   },
   "outputs": [],
   "source": [
    "display(df_state_capital_declarants_resindece)"
   ]
  },
  {
   "cell_type": "markdown",
   "metadata": {
    "application/vnd.databricks.v1+cell": {
     "cellMetadata": {
      "byteLimit": 2048000,
      "rowLimit": 10000
     },
     "inputWidgets": {},
     "nuid": "684af209-db6e-46cd-bd36-61ace3c41f63",
     "showTitle": false,
     "tableResultSettingsMap": {},
     "title": ""
    }
   },
   "source": [
    "## Data Transformation"
   ]
  },
  {
   "cell_type": "markdown",
   "metadata": {
    "application/vnd.databricks.v1+cell": {
     "cellMetadata": {
      "byteLimit": 2048000,
      "rowLimit": 10000
     },
     "inputWidgets": {},
     "nuid": "65416ab8-bcb3-4a1b-9073-4f74212c005b",
     "showTitle": false,
     "tableResultSettingsMap": {},
     "title": ""
    }
   },
   "source": [
    "### \"Estado de Residência do Declarante\""
   ]
  },
  {
   "cell_type": "code",
   "execution_count": 0,
   "metadata": {
    "application/vnd.databricks.v1+cell": {
     "cellMetadata": {
      "byteLimit": 2048000,
      "rowLimit": 10000
     },
     "inputWidgets": {},
     "nuid": "7bf57e1c-16bf-40de-b740-dd58bd27e1d8",
     "showTitle": false,
     "tableResultSettingsMap": {},
     "title": ""
    }
   },
   "outputs": [],
   "source": [
    "df_state_declarants_resindece = df_state_declarants_resindece.dropna(how='all')"
   ]
  },
  {
   "cell_type": "code",
   "execution_count": 0,
   "metadata": {
    "application/vnd.databricks.v1+cell": {
     "cellMetadata": {
      "byteLimit": 2048000,
      "rowLimit": 10000
     },
     "inputWidgets": {},
     "nuid": "c4538064-9dab-423f-b26d-aa93e61ac9fe",
     "showTitle": false,
     "tableResultSettingsMap": {},
     "title": ""
    }
   },
   "outputs": [],
   "source": [
    "df_state_declarants_resindece = df_state_declarants_resindece.dropna(subset=[\"AnoCalendario\", \"Estado\"])"
   ]
  },
  {
   "cell_type": "code",
   "execution_count": 0,
   "metadata": {
    "application/vnd.databricks.v1+cell": {
     "cellMetadata": {
      "byteLimit": 2048000,
      "rowLimit": 10000
     },
     "inputWidgets": {},
     "nuid": "fa6da6ac-cf30-498f-8706-f7c8f060f66a",
     "showTitle": false,
     "tableResultSettingsMap": {},
     "title": ""
    }
   },
   "outputs": [],
   "source": [
    "df_casted_state_declarants_resindece = ffdsm.cast_columns_to_float(df_state_declarants_resindece, [\"AnoCalendario\", \"Estado\"])"
   ]
  },
  {
   "cell_type": "code",
   "execution_count": 0,
   "metadata": {
    "application/vnd.databricks.v1+cell": {
     "cellMetadata": {
      "byteLimit": 2048000,
      "rowLimit": 10000
     },
     "inputWidgets": {},
     "nuid": "302c3cd8-1801-42e4-9af2-8a782a222757",
     "showTitle": false,
     "tableResultSettingsMap": {},
     "title": ""
    }
   },
   "outputs": [],
   "source": [
    "df_casted_state_declarants_resindece = ffdsm.rename_columns_with_df_name(df_casted_state_declarants_resindece, \"EstadoDeResidenciaDoDeclarante\", [\"AnoCalendario\", \"Estado\"])"
   ]
  },
  {
   "cell_type": "code",
   "execution_count": 0,
   "metadata": {
    "application/vnd.databricks.v1+cell": {
     "cellMetadata": {
      "byteLimit": 2048000,
      "rowLimit": 10000
     },
     "inputWidgets": {},
     "nuid": "0996af67-c4ab-4068-8dde-6d587664f5cb",
     "showTitle": false,
     "tableResultSettingsMap": {},
     "title": ""
    }
   },
   "outputs": [],
   "source": [
    "dbutils.data.summarize(df_casted_state_declarants_resindece)"
   ]
  },
  {
   "cell_type": "code",
   "execution_count": 0,
   "metadata": {
    "application/vnd.databricks.v1+cell": {
     "cellMetadata": {
      "byteLimit": 2048000,
      "rowLimit": 10000
     },
     "inputWidgets": {},
     "nuid": "77987a21-72d6-4047-94e2-6e8337fd0f71",
     "showTitle": false,
     "tableResultSettingsMap": {},
     "title": ""
    }
   },
   "outputs": [],
   "source": [
    "df_filled_state_declarants_resindece = ffdsm.fill_nulls(df_casted_state_declarants_resindece, [\"AnoCalendario\", \"Estado\"])"
   ]
  },
  {
   "cell_type": "markdown",
   "metadata": {
    "application/vnd.databricks.v1+cell": {
     "cellMetadata": {
      "byteLimit": 2048000,
      "rowLimit": 10000
     },
     "inputWidgets": {},
     "nuid": "5b093da5-344c-4458-822c-c1cec27b1231",
     "showTitle": false,
     "tableResultSettingsMap": {},
     "title": ""
    }
   },
   "source": [
    "### \"Capital de Estado de Residência do Declarante\""
   ]
  },
  {
   "cell_type": "code",
   "execution_count": 0,
   "metadata": {
    "application/vnd.databricks.v1+cell": {
     "cellMetadata": {
      "byteLimit": 2048000,
      "rowLimit": 10000
     },
     "inputWidgets": {},
     "nuid": "29276a5a-596e-4e33-ad1d-5c6e2d1593cb",
     "showTitle": false,
     "tableResultSettingsMap": {},
     "title": ""
    }
   },
   "outputs": [],
   "source": [
    "df_state_capital_declarants_resindece = df_state_capital_declarants_resindece.dropna(how='all')"
   ]
  },
  {
   "cell_type": "code",
   "execution_count": 0,
   "metadata": {
    "application/vnd.databricks.v1+cell": {
     "cellMetadata": {
      "byteLimit": 2048000,
      "rowLimit": 10000
     },
     "inputWidgets": {},
     "nuid": "5a8f7cf1-fe03-4ac9-a0c0-6bf573b37396",
     "showTitle": false,
     "tableResultSettingsMap": {},
     "title": ""
    }
   },
   "outputs": [],
   "source": [
    "df_state_capital_declarants_resindece = df_state_capital_declarants_resindece.dropna(subset=[\"AnoCalendario\", \"CapitalEstado\"])"
   ]
  },
  {
   "cell_type": "code",
   "execution_count": 0,
   "metadata": {
    "application/vnd.databricks.v1+cell": {
     "cellMetadata": {
      "byteLimit": 2048000,
      "rowLimit": 10000
     },
     "inputWidgets": {},
     "nuid": "b1a65e01-fb5f-4b3c-8bab-3a28b05cbb39",
     "showTitle": false,
     "tableResultSettingsMap": {},
     "title": ""
    }
   },
   "outputs": [],
   "source": [
    "df_casted_state_capital_declarants_resindece = ffdsm.cast_columns_to_float(df_state_capital_declarants_resindece, [\"AnoCalendario\", \"CapitalEstado\"])"
   ]
  },
  {
   "cell_type": "code",
   "execution_count": 0,
   "metadata": {
    "application/vnd.databricks.v1+cell": {
     "cellMetadata": {
      "byteLimit": 2048000,
      "rowLimit": 10000
     },
     "inputWidgets": {},
     "nuid": "33afe2da-eba3-46e9-b5f8-dad75983e6e8",
     "showTitle": false,
     "tableResultSettingsMap": {},
     "title": ""
    }
   },
   "outputs": [],
   "source": [
    "df_casted_state_capital_declarants_resindece = ffdsm.rename_columns_with_df_name(df_casted_state_capital_declarants_resindece, \"CapitalDeEstadoDeResidenciaDoDeclarante\", [\"AnoCalendario\", \"CapitalEstado\"])"
   ]
  },
  {
   "cell_type": "code",
   "execution_count": 0,
   "metadata": {
    "application/vnd.databricks.v1+cell": {
     "cellMetadata": {
      "byteLimit": 2048000,
      "rowLimit": 10000
     },
     "inputWidgets": {},
     "nuid": "33a5ac59-ce03-42a6-9607-67ea3f5eeca3",
     "showTitle": false,
     "tableResultSettingsMap": {},
     "title": ""
    }
   },
   "outputs": [],
   "source": [
    "dbutils.data.summarize(df_casted_state_capital_declarants_resindece)"
   ]
  },
  {
   "cell_type": "code",
   "execution_count": 0,
   "metadata": {
    "application/vnd.databricks.v1+cell": {
     "cellMetadata": {
      "byteLimit": 2048000,
      "rowLimit": 10000
     },
     "inputWidgets": {},
     "nuid": "5652fe29-f14a-44d5-a4b1-89ce9aa9b6e1",
     "showTitle": false,
     "tableResultSettingsMap": {},
     "title": ""
    }
   },
   "outputs": [],
   "source": [
    "df_filled_state_capital_declarants_resindece = ffdsm.fill_nulls(df_casted_state_capital_declarants_resindece, [\"AnoCalendario\", \"CapitalEstado\"])"
   ]
  },
  {
   "cell_type": "code",
   "execution_count": 0,
   "metadata": {
    "application/vnd.databricks.v1+cell": {
     "cellMetadata": {
      "byteLimit": 2048000,
      "rowLimit": 10000
     },
     "inputWidgets": {},
     "nuid": "a5b6650d-7075-4224-b433-8284788ed2ee",
     "showTitle": false,
     "tableResultSettingsMap": {},
     "title": ""
    }
   },
   "outputs": [],
   "source": [
    "brazilian_states = {\n",
    "    \"Acre\": \"AC\",\n",
    "    \"Alagoas\": \"AL\",\n",
    "    \"Amapá\": \"AP\",\n",
    "    \"Amazonas\": \"AM\",\n",
    "    \"Bahia\": \"BA\",\n",
    "    \"Ceará\": \"CE\",\n",
    "    \"Distrito Federal\": \"DF\",\n",
    "    \"Espírito Santo\": \"ES\",\n",
    "    \"Goiás\": \"GO\",\n",
    "    \"Maranhão\": \"MA\",\n",
    "    \"Mato Grosso\": \"MT\",\n",
    "    \"Mato Grosso do Sul\": \"MS\",\n",
    "    \"Minas Gerais\": \"MG\",\n",
    "    \"Pará\": \"PA\",\n",
    "    \"Paraíba\": \"PB\",\n",
    "    \"Paraná\": \"PR\",\n",
    "    \"Pernambuco\": \"PE\",\n",
    "    \"Piauí\": \"PI\",\n",
    "    \"Rio de Janeiro\": \"RJ\",\n",
    "    \"Rio Grande do Norte\": \"RN\",\n",
    "    \"Rio Grande do Sul\": \"RS\",\n",
    "    \"Rondônia\": \"RO\",\n",
    "    \"Roraima\": \"RR\",\n",
    "    \"Santa Catarina\": \"SC\",\n",
    "    \"São Paulo\": \"SP\",\n",
    "    \"Sergipe\": \"SE\",\n",
    "    \"Tocantins\": \"TO\"\n",
    "}"
   ]
  },
  {
   "cell_type": "code",
   "execution_count": 0,
   "metadata": {
    "application/vnd.databricks.v1+cell": {
     "cellMetadata": {
      "byteLimit": 2048000,
      "rowLimit": 10000
     },
     "inputWidgets": {},
     "nuid": "d4450f3f-3c41-4cfa-b6e7-5f44b6ae2aef",
     "showTitle": false,
     "tableResultSettingsMap": {},
     "title": ""
    }
   },
   "outputs": [],
   "source": [
    "def get_full_state_name(capital_state):\n",
    "    full_state = \"Não se Aplica\"\n",
    "    for state, abbreviation in brazilian_states.items():\n",
    "        if abbreviation in capital_state:\n",
    "            full_state = state\n",
    "            break\n",
    "    \n",
    "    return full_state\n",
    "\n",
    "get_full_state_name_udf = udf(get_full_state_name, StringType())"
   ]
  },
  {
   "cell_type": "code",
   "execution_count": 0,
   "metadata": {
    "application/vnd.databricks.v1+cell": {
     "cellMetadata": {
      "byteLimit": 2048000,
      "rowLimit": 10000
     },
     "inputWidgets": {},
     "nuid": "34217b1b-0628-4ee9-a35e-4d5208b1ced2",
     "showTitle": false,
     "tableResultSettingsMap": {},
     "title": ""
    }
   },
   "outputs": [],
   "source": [
    "df_filled_state_capital_declarants_resindece = df_filled_state_capital_declarants_resindece.withColumn(\n",
    "    \"Estado\", get_full_state_name_udf(df_filled_state_capital_declarants_resindece[\"CapitalEstado\"])\n",
    ")"
   ]
  },
  {
   "cell_type": "code",
   "execution_count": 0,
   "metadata": {
    "application/vnd.databricks.v1+cell": {
     "cellMetadata": {
      "byteLimit": 2048000,
      "rowLimit": 10000
     },
     "inputWidgets": {},
     "nuid": "bfca4237-f564-40b7-a158-17c8b16b06df",
     "showTitle": false,
     "tableResultSettingsMap": {},
     "title": ""
    }
   },
   "outputs": [],
   "source": [
    "states_capitals = {\n",
    "    \"Rio Branco\": \"Acre\",\n",
    "    \"Maceió\": \"Alagoas\",\n",
    "    \"Macapá\": \"Amapá\",\n",
    "    \"Manaus\": \"Amazonas\",\n",
    "    \"Salvador\": \"Bahia\",\n",
    "    \"Fortaleza\": \"Ceará\",\n",
    "    \"Brasília\": \"Distrito Federal\",\n",
    "    \"Vitória\": \"Espírito Santo\",\n",
    "    \"Goiânia\": \"Goiás\",\n",
    "    \"São Luís\": \"Maranhão\",\n",
    "    \"Cuiabá\": \"Mato Grosso\",\n",
    "    \"Campo Grande\": \"Mato Grosso do Sul\",\n",
    "    \"Belo Horizonte\": \"Minas Gerais\",\n",
    "    \"Belém\": \"Pará\",\n",
    "    \"João Pessoa\": \"Paraíba\",\n",
    "    \"Curitiba\": \"Paraná\",\n",
    "    \"Recife\": \"Pernambuco\",\n",
    "    \"Teresina\": \"Piauí\",\n",
    "    \"Rio de Janeiro\": \"Rio de Janeiro\",\n",
    "    \"Natal\": \"Rio Grande do Norte\",\n",
    "    \"Porto Alegre\": \"Rio Grande do Sul\",\n",
    "    \"Porto Velho\": \"Rondônia\",\n",
    "    \"Boa Vista\": \"Roraima\",\n",
    "    \"Florianópolis\": \"Santa Catarina\",\n",
    "    \"São Paulo\": \"São Paulo\",\n",
    "    \"Aracaju\": \"Sergipe\",\n",
    "    \"Palmas\": \"Tocantins\"\n",
    "}"
   ]
  },
  {
   "cell_type": "code",
   "execution_count": 0,
   "metadata": {
    "application/vnd.databricks.v1+cell": {
     "cellMetadata": {
      "byteLimit": 2048000,
      "rowLimit": 10000
     },
     "inputWidgets": {},
     "nuid": "6288a7d3-7d1f-4212-ac4d-ce60df030fbf",
     "showTitle": false,
     "tableResultSettingsMap": {},
     "title": ""
    }
   },
   "outputs": [],
   "source": [
    "def get_capital_state_name(state):\n",
    "    capital_state = \"Não se Aplica\"\n",
    "    for capital_state_name, state_name in states_capitals.items():\n",
    "        if state_name == state:\n",
    "            capital_state = capital_state_name\n",
    "            break\n",
    "    return capital_state\n",
    "\n",
    "get_capital_state_name_udf = udf(get_capital_state_name, StringType())"
   ]
  },
  {
   "cell_type": "code",
   "execution_count": 0,
   "metadata": {
    "application/vnd.databricks.v1+cell": {
     "cellMetadata": {
      "byteLimit": 2048000,
      "rowLimit": 10000
     },
     "inputWidgets": {},
     "nuid": "422cb8ec-0cf1-4bdc-bf54-485ed062e1b0",
     "showTitle": false,
     "tableResultSettingsMap": {},
     "title": ""
    }
   },
   "outputs": [],
   "source": [
    "def get_state_abbreviation(state_name):\n",
    "    return brazilian_states.get(state_name, \"Não se Aplica\")\n",
    "\n",
    "get_state_abbreviation_udf = udf(get_state_abbreviation, StringType())"
   ]
  },
  {
   "cell_type": "markdown",
   "metadata": {
    "application/vnd.databricks.v1+cell": {
     "cellMetadata": {
      "byteLimit": 2048000,
      "rowLimit": 10000
     },
     "inputWidgets": {},
     "nuid": "4bf5b055-0208-41ee-af2b-6c8290d4a78d",
     "showTitle": false,
     "tableResultSettingsMap": {},
     "title": ""
    }
   },
   "source": [
    "## Aggregation By \"Ano e Estado\""
   ]
  },
  {
   "cell_type": "code",
   "execution_count": 0,
   "metadata": {
    "application/vnd.databricks.v1+cell": {
     "cellMetadata": {
      "byteLimit": 2048000,
      "rowLimit": 10000
     },
     "inputWidgets": {},
     "nuid": "d8a2b6ad-0361-413b-96ac-1d93a22b7cad",
     "showTitle": false,
     "tableResultSettingsMap": {},
     "title": ""
    }
   },
   "outputs": [],
   "source": [
    "df_silver_state_and_capital_of_declarants_residence = df_filled_state_declarants_resindece.join(df_filled_state_capital_declarants_resindece, on=[\"AnoCalendario\", \"Estado\"], how=\"full_outer\")"
   ]
  },
  {
   "cell_type": "code",
   "execution_count": 0,
   "metadata": {
    "application/vnd.databricks.v1+cell": {
     "cellMetadata": {
      "byteLimit": 2048000,
      "rowLimit": 10000
     },
     "inputWidgets": {},
     "nuid": "2c986403-be2b-4f83-aa00-0960ad824d7e",
     "showTitle": false,
     "tableResultSettingsMap": {},
     "title": ""
    }
   },
   "outputs": [],
   "source": [
    "df_silver_state_and_capital_of_declarants_residence = ffdsm.fill_nulls(df_silver_state_and_capital_of_declarants_residence, [\"AnoCalendario\", \"Estado\", \"CapitalEstado\", \"EstadoSigla\"])"
   ]
  },
  {
   "cell_type": "code",
   "execution_count": 0,
   "metadata": {
    "application/vnd.databricks.v1+cell": {
     "cellMetadata": {
      "byteLimit": 2048000,
      "rowLimit": 10000
     },
     "inputWidgets": {},
     "nuid": "a1232da5-ec37-4575-8a02-96b266f188f0",
     "showTitle": false,
     "tableResultSettingsMap": {},
     "title": ""
    }
   },
   "outputs": [],
   "source": [
    "df_silver_state_and_capital_of_declarants_residence = df_silver_state_and_capital_of_declarants_residence.withColumn(\n",
    "    \"CapitalEstado\", get_capital_state_name_udf(df_silver_state_and_capital_of_declarants_residence[\"Estado\"])\n",
    ")"
   ]
  },
  {
   "cell_type": "code",
   "execution_count": 0,
   "metadata": {
    "application/vnd.databricks.v1+cell": {
     "cellMetadata": {
      "byteLimit": 2048000,
      "rowLimit": 10000
     },
     "inputWidgets": {},
     "nuid": "1661373f-bce6-44ab-af7e-c3bee04431f2",
     "showTitle": false,
     "tableResultSettingsMap": {},
     "title": ""
    }
   },
   "outputs": [],
   "source": [
    "df_silver_state_and_capital_of_declarants_residence = df_silver_state_and_capital_of_declarants_residence.withColumn(\n",
    "    \"EstadoSigla\", get_state_abbreviation_udf(df_silver_state_and_capital_of_declarants_residence[\"Estado\"])\n",
    ")"
   ]
  },
  {
   "cell_type": "code",
   "execution_count": 0,
   "metadata": {
    "application/vnd.databricks.v1+cell": {
     "cellMetadata": {
      "byteLimit": 2048000,
      "rowLimit": 10000
     },
     "inputWidgets": {},
     "nuid": "59cca4c4-cc3f-4584-a88c-a14ecc676d4d",
     "showTitle": false,
     "tableResultSettingsMap": {
      "0": {
       "dataGridStateBlob": "{\"version\":1,\"tableState\":{\"columnPinning\":{\"left\":[\"#row_number#\"],\"right\":[]},\"columnSizing\":{},\"columnVisibility\":{}},\"settings\":{\"columns\":{}},\"syncTimestamp\":1756918468400}",
       "filterBlob": null,
       "queryPlanFiltersBlob": null,
       "tableResultIndex": 0
      }
     },
     "title": ""
    }
   },
   "outputs": [],
   "source": [
    "display(df_silver_state_and_capital_of_declarants_residence)"
   ]
  },
  {
   "cell_type": "code",
   "execution_count": 0,
   "metadata": {
    "application/vnd.databricks.v1+cell": {
     "cellMetadata": {
      "byteLimit": 2048000,
      "rowLimit": 10000
     },
     "inputWidgets": {},
     "nuid": "0bd02406-5802-44be-b5db-84797b04c7ec",
     "showTitle": false,
     "tableResultSettingsMap": {
      "0": {
       "dataGridStateBlob": "{\"version\":1,\"tableState\":{\"columnPinning\":{\"left\":[\"#row_number#\"],\"right\":[]},\"columnSizing\":{},\"columnVisibility\":{}},\"settings\":{\"columns\":{}},\"syncTimestamp\":1756492438710}",
       "filterBlob": null,
       "queryPlanFiltersBlob": null,
       "tableResultIndex": 0
      }
     },
     "title": ""
    }
   },
   "outputs": [],
   "source": [
    "df_nulls = ffdsm.count_nulls(df_silver_state_and_capital_of_declarants_residence)\n",
    "display(df_nulls)"
   ]
  },
  {
   "cell_type": "markdown",
   "metadata": {
    "application/vnd.databricks.v1+cell": {
     "cellMetadata": {
      "byteLimit": 2048000,
      "rowLimit": 10000
     },
     "inputWidgets": {},
     "nuid": "1f788bb9-7645-453c-a4c8-7a3d16e5c2ce",
     "showTitle": false,
     "tableResultSettingsMap": {},
     "title": ""
    }
   },
   "source": [
    "## Save as Delta in Silver Layer"
   ]
  },
  {
   "cell_type": "code",
   "execution_count": 0,
   "metadata": {
    "application/vnd.databricks.v1+cell": {
     "cellMetadata": {
      "byteLimit": 2048000,
      "rowLimit": 10000
     },
     "inputWidgets": {},
     "nuid": "9e0b735e-4ed7-4e07-bdc2-4f71deaa0841",
     "showTitle": false,
     "tableResultSettingsMap": {},
     "title": ""
    }
   },
   "outputs": [],
   "source": [
    "spark.sql(f\"CREATE SCHEMA IF NOT EXISTS brazilian_tax_big_numbers.silver_layer\")"
   ]
  },
  {
   "cell_type": "code",
   "execution_count": 0,
   "metadata": {
    "application/vnd.databricks.v1+cell": {
     "cellMetadata": {
      "byteLimit": 2048000,
      "rowLimit": 10000
     },
     "inputWidgets": {},
     "nuid": "73ab94b4-77a5-408f-b349-065e7014c37f",
     "showTitle": false,
     "tableResultSettingsMap": {},
     "title": ""
    }
   },
   "outputs": [],
   "source": [
    "error = None\n",
    "\n",
    "try:\n",
    "    df_silver_state_and_capital_of_declarants_residence.write \\\n",
    "        .mode(\"overwrite\") \\\n",
    "        .saveAsTable(f\"brazilian_tax_big_numbers.silver_layer.delta_estados_e_capitais\")\n",
    "    error = None\n",
    "except Exception as e:\n",
    "    error = str(e)\n",
    "    print(error)"
   ]
  }
 ],
 "metadata": {
  "application/vnd.databricks.v1+notebook": {
   "computePreferences": {
    "hardware": {
     "accelerator": null,
     "gpuPoolId": null,
     "memory": null
    }
   },
   "dashboards": [],
   "environmentMetadata": {
    "base_environment": "",
    "environment_version": "3"
   },
   "inputWidgetPreferences": null,
   "language": "python",
   "notebookMetadata": {
    "pythonIndentUnit": 4
   },
   "notebookName": "transformation_and_aggregation_state_and_capital_of_declarants_residence",
   "widgets": {}
  },
  "language_info": {
   "name": "python"
  }
 },
 "nbformat": 4,
 "nbformat_minor": 0
}
