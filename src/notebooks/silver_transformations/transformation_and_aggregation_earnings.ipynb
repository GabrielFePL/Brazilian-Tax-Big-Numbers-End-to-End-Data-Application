{
 "cells": [
  {
   "cell_type": "markdown",
   "metadata": {
    "application/vnd.databricks.v1+cell": {
     "cellMetadata": {
      "byteLimit": 2048000,
      "rowLimit": 10000
     },
     "inputWidgets": {},
     "nuid": "2a4317d7-b14f-4c3f-98ef-8b0e83bf105d",
     "showTitle": false,
     "tableResultSettingsMap": {},
     "title": ""
    }
   },
   "source": [
    "# Data Transformation and Aggregation by Identifier \"Ano e Faixa Salarial\""
   ]
  },
  {
   "cell_type": "markdown",
   "metadata": {
    "application/vnd.databricks.v1+cell": {
     "cellMetadata": {
      "byteLimit": 2048000,
      "rowLimit": 10000
     },
     "inputWidgets": {},
     "nuid": "36038481-7337-48e6-b41e-34c2dccea9a2",
     "showTitle": false,
     "tableResultSettingsMap": {},
     "title": ""
    }
   },
   "source": [
    "## Environment Configuration"
   ]
  },
  {
   "cell_type": "code",
   "execution_count": 0,
   "metadata": {
    "application/vnd.databricks.v1+cell": {
     "cellMetadata": {
      "byteLimit": 2048000,
      "rowLimit": 10000
     },
     "inputWidgets": {},
     "nuid": "ee6f2e8b-0d35-4e25-8f3e-f6365f30173c",
     "showTitle": false,
     "tableResultSettingsMap": {},
     "title": ""
    }
   },
   "outputs": [],
   "source": [
    "from pyspark.sql.utils import AnalysisException\n",
    "from src.utils.udfs import functions_for_df_structure_management as ffdsm"
   ]
  },
  {
   "cell_type": "markdown",
   "metadata": {
    "application/vnd.databricks.v1+cell": {
     "cellMetadata": {
      "byteLimit": 2048000,
      "rowLimit": 10000
     },
     "inputWidgets": {},
     "nuid": "ae287f19-54de-4d3c-bfce-5e5969674fde",
     "showTitle": false,
     "tableResultSettingsMap": {},
     "title": ""
    }
   },
   "source": [
    "## Data Ingestion from Bronze Layer"
   ]
  },
  {
   "cell_type": "code",
   "execution_count": 0,
   "metadata": {
    "application/vnd.databricks.v1+cell": {
     "cellMetadata": {
      "byteLimit": 2048000,
      "rowLimit": 10000
     },
     "inputWidgets": {},
     "nuid": "6aecd966-0135-4d36-8d6a-06467f57b840",
     "showTitle": false,
     "tableResultSettingsMap": {},
     "title": ""
    }
   },
   "outputs": [],
   "source": [
    "df_range_of_gross_taxable_income_in_minimum_wages = spark.table(\"brazilian_tax_big_numbers.bronze_layer.delta_faixa_de_rendimento_tributavel_bruto_em_salarios_minimos\")"
   ]
  },
  {
   "cell_type": "code",
   "execution_count": 0,
   "metadata": {
    "application/vnd.databricks.v1+cell": {
     "cellMetadata": {
      "byteLimit": 2048000,
      "rowLimit": 10000
     },
     "inputWidgets": {},
     "nuid": "57f761b4-0317-46f3-b4a6-46d534156d79",
     "showTitle": false,
     "tableResultSettingsMap": {},
     "title": ""
    }
   },
   "outputs": [],
   "source": [
    "df_range_of_total_income_in_minimum_wages = spark.table(\"brazilian_tax_big_numbers.bronze_layer.delta_faixa_de_rendimentos_totais_em_salarios_minimos\")"
   ]
  },
  {
   "cell_type": "code",
   "execution_count": 0,
   "metadata": {
    "application/vnd.databricks.v1+cell": {
     "cellMetadata": {
      "byteLimit": 2048000,
      "rowLimit": 10000
     },
     "inputWidgets": {},
     "nuid": "9fc075e0-9d8c-4511-9fa0-fd801eb084d4",
     "showTitle": false,
     "tableResultSettingsMap": {},
     "title": ""
    }
   },
   "outputs": [],
   "source": [
    "df_taxable_income_range_exclusive_taxation_on_minimum_wages = spark.table(\"brazilian_tax_big_numbers.bronze_layer.delta_faixa_de_rendimentos_tributaveis_tributacao_exclusiva_em_salarios_minimos\")"
   ]
  },
  {
   "cell_type": "code",
   "execution_count": 0,
   "metadata": {
    "application/vnd.databricks.v1+cell": {
     "cellMetadata": {
      "byteLimit": 2048000,
      "rowLimit": 10000
     },
     "inputWidgets": {},
     "nuid": "48fd208b-c3bf-4e21-a1ba-4d0b530b316b",
     "showTitle": false,
     "tableResultSettingsMap": {},
     "title": ""
    }
   },
   "outputs": [],
   "source": [
    "df_profit_dividend_recipients_and_partner_owner_income_by_total_income_range_in_minimum_wages = spark.table(\"brazilian_tax_big_numbers.bronze_layer.delta_recebedores_de_lucros_e_dividendos_rend_socio_e_titular_microempresa_por_faixa_de_rendimento_total_em_salarios_minimos\")"
   ]
  },
  {
   "cell_type": "code",
   "execution_count": 0,
   "metadata": {
    "application/vnd.databricks.v1+cell": {
     "cellMetadata": {
      "byteLimit": 2048000,
      "rowLimit": 10000
     },
     "inputWidgets": {},
     "nuid": "36ac08b3-7100-4b1d-9c70-1bb249fac137",
     "showTitle": false,
     "tableResultSettingsMap": {},
     "title": ""
    }
   },
   "outputs": [],
   "source": [
    "df_income_subject_to_exclusive_definitive_taxation = spark.table(\"brazilian_tax_big_numbers.bronze_layer.delta_rendimentos_sujeitos_a_tributacao_exclusiva_definitiva\")"
   ]
  },
  {
   "cell_type": "code",
   "execution_count": 0,
   "metadata": {
    "application/vnd.databricks.v1+cell": {
     "cellMetadata": {
      "byteLimit": 2048000,
      "rowLimit": 10000
     },
     "inputWidgets": {},
     "nuid": "e53577df-4d93-4814-8de0-eee921a51375",
     "showTitle": false,
     "tableResultSettingsMap": {},
     "title": ""
    }
   },
   "outputs": [],
   "source": [
    "df_taxable_income_by_minimum_wage_range = spark.table(\"brazilian_tax_big_numbers.bronze_layer.delta_rendimentos_tributaveis_por_faixa_de_salarios_minimos\")"
   ]
  },
  {
   "cell_type": "code",
   "execution_count": 0,
   "metadata": {
    "application/vnd.databricks.v1+cell": {
     "cellMetadata": {
      "byteLimit": 2048000,
      "rowLimit": 10000
     },
     "inputWidgets": {},
     "nuid": "00e6a321-8877-4eca-b3d0-25abada7d733",
     "showTitle": false,
     "tableResultSettingsMap": {},
     "title": ""
    }
   },
   "outputs": [],
   "source": [
    "df_tax_exempt_and_non_taxable_income = spark.table(\"brazilian_tax_big_numbers.bronze_layer.delta_rendimentos_isentos_e_nao_tributaveis\")"
   ]
  },
  {
   "cell_type": "markdown",
   "metadata": {
    "application/vnd.databricks.v1+cell": {
     "cellMetadata": {
      "byteLimit": 2048000,
      "rowLimit": 10000
     },
     "inputWidgets": {},
     "nuid": "684af209-db6e-46cd-bd36-61ace3c41f63",
     "showTitle": false,
     "tableResultSettingsMap": {},
     "title": ""
    }
   },
   "source": [
    "## Data Transformation"
   ]
  },
  {
   "cell_type": "markdown",
   "metadata": {
    "application/vnd.databricks.v1+cell": {
     "cellMetadata": {
      "byteLimit": 2048000,
      "rowLimit": 10000
     },
     "inputWidgets": {},
     "nuid": "65416ab8-bcb3-4a1b-9073-4f74212c005b",
     "showTitle": false,
     "tableResultSettingsMap": {},
     "title": ""
    }
   },
   "source": [
    "### \"Faixa de Rendimento Tributável Bruto em Salários-Mínimos\""
   ]
  },
  {
   "cell_type": "code",
   "execution_count": 0,
   "metadata": {
    "application/vnd.databricks.v1+cell": {
     "cellMetadata": {
      "byteLimit": 2048000,
      "rowLimit": 10000
     },
     "inputWidgets": {},
     "nuid": "7bf57e1c-16bf-40de-b740-dd58bd27e1d8",
     "showTitle": false,
     "tableResultSettingsMap": {},
     "title": ""
    }
   },
   "outputs": [],
   "source": [
    "df_range_of_gross_taxable_income_in_minimum_wages = df_range_of_gross_taxable_income_in_minimum_wages.dropna(how='all')"
   ]
  },
  {
   "cell_type": "code",
   "execution_count": 0,
   "metadata": {
    "application/vnd.databricks.v1+cell": {
     "cellMetadata": {
      "byteLimit": 2048000,
      "rowLimit": 10000
     },
     "inputWidgets": {},
     "nuid": "fa6da6ac-cf30-498f-8706-f7c8f060f66a",
     "showTitle": false,
     "tableResultSettingsMap": {},
     "title": ""
    }
   },
   "outputs": [],
   "source": [
    "df_casted_range_of_gross_taxable_income_in_minimum_wages = ffdsm.cast_columns_to_float(df_range_of_gross_taxable_income_in_minimum_wages, [\"AnoCalendario\", \"FaixaSmMensal\"])"
   ]
  },
  {
   "cell_type": "code",
   "execution_count": 0,
   "metadata": {
    "application/vnd.databricks.v1+cell": {
     "cellMetadata": {
      "byteLimit": 2048000,
      "rowLimit": 10000
     },
     "inputWidgets": {},
     "nuid": "302c3cd8-1801-42e4-9af2-8a782a222757",
     "showTitle": false,
     "tableResultSettingsMap": {},
     "title": ""
    }
   },
   "outputs": [],
   "source": [
    "df_casted_range_of_gross_taxable_income_in_minimum_wages = ffdsm.rename_columns_with_df_name(df_casted_range_of_gross_taxable_income_in_minimum_wages, \"FaixaDeRendimentoTributavelBrutoEmSalariosMinimos\", [\"AnoCalendario\", \"FaixaSmMensal\"])"
   ]
  },
  {
   "cell_type": "code",
   "execution_count": 0,
   "metadata": {
    "application/vnd.databricks.v1+cell": {
     "cellMetadata": {
      "byteLimit": 2048000,
      "rowLimit": 10000
     },
     "inputWidgets": {},
     "nuid": "0996af67-c4ab-4068-8dde-6d587664f5cb",
     "showTitle": false,
     "tableResultSettingsMap": {},
     "title": ""
    }
   },
   "outputs": [],
   "source": [
    "dbutils.data.summarize(df_casted_range_of_gross_taxable_income_in_minimum_wages)"
   ]
  },
  {
   "cell_type": "code",
   "execution_count": 0,
   "metadata": {
    "application/vnd.databricks.v1+cell": {
     "cellMetadata": {
      "byteLimit": 2048000,
      "rowLimit": 10000
     },
     "inputWidgets": {},
     "nuid": "77987a21-72d6-4047-94e2-6e8337fd0f71",
     "showTitle": false,
     "tableResultSettingsMap": {},
     "title": ""
    }
   },
   "outputs": [],
   "source": [
    "df_filled_range_of_gross_taxable_income_in_minimum_wages = ffdsm.fill_nulls(df_casted_range_of_gross_taxable_income_in_minimum_wages, [\"AnoCalendario\", \"FaixaSmMensal\"])"
   ]
  },
  {
   "cell_type": "markdown",
   "metadata": {
    "application/vnd.databricks.v1+cell": {
     "cellMetadata": {
      "byteLimit": 2048000,
      "rowLimit": 10000
     },
     "inputWidgets": {},
     "nuid": "5b093da5-344c-4458-822c-c1cec27b1231",
     "showTitle": false,
     "tableResultSettingsMap": {},
     "title": ""
    }
   },
   "source": [
    "### \"Faixa de Rendimentos Tributáveis Tributação Exclusiva em Salários-Mínimos\""
   ]
  },
  {
   "cell_type": "code",
   "execution_count": 0,
   "metadata": {
    "application/vnd.databricks.v1+cell": {
     "cellMetadata": {
      "byteLimit": 2048000,
      "rowLimit": 10000
     },
     "inputWidgets": {},
     "nuid": "29276a5a-596e-4e33-ad1d-5c6e2d1593cb",
     "showTitle": false,
     "tableResultSettingsMap": {},
     "title": ""
    }
   },
   "outputs": [],
   "source": [
    "df_taxable_income_range_exclusive_taxation_on_minimum_wages = df_taxable_income_range_exclusive_taxation_on_minimum_wages.dropna(how='all')"
   ]
  },
  {
   "cell_type": "code",
   "execution_count": 0,
   "metadata": {
    "application/vnd.databricks.v1+cell": {
     "cellMetadata": {
      "byteLimit": 2048000,
      "rowLimit": 10000
     },
     "inputWidgets": {},
     "nuid": "b1a65e01-fb5f-4b3c-8bab-3a28b05cbb39",
     "showTitle": false,
     "tableResultSettingsMap": {},
     "title": ""
    }
   },
   "outputs": [],
   "source": [
    "df_casted_taxable_income_range_exclusive_taxation_on_minimum_wages = ffdsm.cast_columns_to_float(df_taxable_income_range_exclusive_taxation_on_minimum_wages, [\"AnoCalendario\", \"FaixaSmMensal\"])"
   ]
  },
  {
   "cell_type": "code",
   "execution_count": 0,
   "metadata": {
    "application/vnd.databricks.v1+cell": {
     "cellMetadata": {
      "byteLimit": 2048000,
      "rowLimit": 10000
     },
     "inputWidgets": {},
     "nuid": "33afe2da-eba3-46e9-b5f8-dad75983e6e8",
     "showTitle": false,
     "tableResultSettingsMap": {},
     "title": ""
    }
   },
   "outputs": [],
   "source": [
    "df_casted_taxable_income_range_exclusive_taxation_on_minimum_wages = ffdsm.rename_columns_with_df_name(df_casted_taxable_income_range_exclusive_taxation_on_minimum_wages, \"FaixaDeRendimentosTributaveisTributacaoExclusivaEmSalariosMinimos\", [\"AnoCalendario\", \"FaixaSmMensal\"])"
   ]
  },
  {
   "cell_type": "code",
   "execution_count": 0,
   "metadata": {
    "application/vnd.databricks.v1+cell": {
     "cellMetadata": {
      "byteLimit": 2048000,
      "rowLimit": 10000
     },
     "inputWidgets": {},
     "nuid": "33a5ac59-ce03-42a6-9607-67ea3f5eeca3",
     "showTitle": false,
     "tableResultSettingsMap": {},
     "title": ""
    }
   },
   "outputs": [],
   "source": [
    "dbutils.data.summarize(df_casted_taxable_income_range_exclusive_taxation_on_minimum_wages)"
   ]
  },
  {
   "cell_type": "code",
   "execution_count": 0,
   "metadata": {
    "application/vnd.databricks.v1+cell": {
     "cellMetadata": {
      "byteLimit": 2048000,
      "rowLimit": 10000
     },
     "inputWidgets": {},
     "nuid": "5652fe29-f14a-44d5-a4b1-89ce9aa9b6e1",
     "showTitle": false,
     "tableResultSettingsMap": {},
     "title": ""
    }
   },
   "outputs": [],
   "source": [
    "df_filled_taxable_income_range_exclusive_taxation_on_minimum_wages = ffdsm.fill_nulls(df_casted_taxable_income_range_exclusive_taxation_on_minimum_wages, [\"AnoCalendario\", \"FaixaSmMensal\"])"
   ]
  },
  {
   "cell_type": "markdown",
   "metadata": {
    "application/vnd.databricks.v1+cell": {
     "cellMetadata": {
      "byteLimit": 2048000,
      "rowLimit": 10000
     },
     "inputWidgets": {},
     "nuid": "0244d28f-27f1-4896-8b15-e4dddc7468f0",
     "showTitle": false,
     "tableResultSettingsMap": {},
     "title": ""
    }
   },
   "source": [
    "### \"Faixa de Rendimentos Totais em Salários-Mínimos\""
   ]
  },
  {
   "cell_type": "code",
   "execution_count": 0,
   "metadata": {
    "application/vnd.databricks.v1+cell": {
     "cellMetadata": {
      "byteLimit": 2048000,
      "rowLimit": 10000
     },
     "inputWidgets": {},
     "nuid": "6985f0a2-c4e7-4e5d-81ef-3d28a535b77f",
     "showTitle": false,
     "tableResultSettingsMap": {},
     "title": ""
    }
   },
   "outputs": [],
   "source": [
    "df_range_of_total_income_in_minimum_wages = df_range_of_total_income_in_minimum_wages.dropna(how='all')"
   ]
  },
  {
   "cell_type": "code",
   "execution_count": 0,
   "metadata": {
    "application/vnd.databricks.v1+cell": {
     "cellMetadata": {
      "byteLimit": 2048000,
      "rowLimit": 10000
     },
     "inputWidgets": {},
     "nuid": "48e56c41-e296-4f14-8c42-6c84acfebfb5",
     "showTitle": false,
     "tableResultSettingsMap": {},
     "title": ""
    }
   },
   "outputs": [],
   "source": [
    "df_casted_range_of_total_income_in_minimum_wages = ffdsm.cast_columns_to_float(df_range_of_total_income_in_minimum_wages, [\"AnoCalendario\", \"FaixaSmMensal\"])"
   ]
  },
  {
   "cell_type": "code",
   "execution_count": 0,
   "metadata": {
    "application/vnd.databricks.v1+cell": {
     "cellMetadata": {
      "byteLimit": 2048000,
      "rowLimit": 10000
     },
     "inputWidgets": {},
     "nuid": "ab490ac6-eb2c-4b48-a7e6-3214be8557f6",
     "showTitle": false,
     "tableResultSettingsMap": {},
     "title": ""
    }
   },
   "outputs": [],
   "source": [
    "df_casted_range_of_total_income_in_minimum_wages = ffdsm.rename_columns_with_df_name(df_casted_range_of_total_income_in_minimum_wages, \"FaixaDeRendimentosTotaisEmSalariosMinimos\", [\"AnoCalendario\", \"FaixaSmMensal\"])"
   ]
  },
  {
   "cell_type": "code",
   "execution_count": 0,
   "metadata": {
    "application/vnd.databricks.v1+cell": {
     "cellMetadata": {
      "byteLimit": 2048000,
      "rowLimit": 10000
     },
     "inputWidgets": {},
     "nuid": "b5faafc7-24fb-4abb-97f3-ad3d2f51521d",
     "showTitle": false,
     "tableResultSettingsMap": {},
     "title": ""
    }
   },
   "outputs": [],
   "source": [
    "dbutils.data.summarize(df_casted_range_of_total_income_in_minimum_wages)"
   ]
  },
  {
   "cell_type": "code",
   "execution_count": 0,
   "metadata": {
    "application/vnd.databricks.v1+cell": {
     "cellMetadata": {
      "byteLimit": 2048000,
      "rowLimit": 10000
     },
     "inputWidgets": {},
     "nuid": "c0991b51-8b63-4c71-8946-570b7185fd97",
     "showTitle": false,
     "tableResultSettingsMap": {},
     "title": ""
    }
   },
   "outputs": [],
   "source": [
    "df_filled_casted_range_of_total_income_in_minimum_wages = ffdsm.fill_nulls(df_casted_range_of_total_income_in_minimum_wages, [\"AnoCalendario\", \"FaixaSmMensal\"])"
   ]
  },
  {
   "cell_type": "markdown",
   "metadata": {
    "application/vnd.databricks.v1+cell": {
     "cellMetadata": {
      "byteLimit": 2048000,
      "rowLimit": 10000
     },
     "inputWidgets": {},
     "nuid": "e823b493-2112-4548-8e85-5cb8ff3cde65",
     "showTitle": false,
     "tableResultSettingsMap": {},
     "title": ""
    }
   },
   "source": [
    "### \"Recebedores de Lucros e Dividendos Rend Sócio e Titular Microempresa por Faixa de Rendimento Total em Salários-Mínimos\""
   ]
  },
  {
   "cell_type": "code",
   "execution_count": 0,
   "metadata": {
    "application/vnd.databricks.v1+cell": {
     "cellMetadata": {
      "byteLimit": 2048000,
      "rowLimit": 10000
     },
     "inputWidgets": {},
     "nuid": "0bb48884-071e-46c0-895c-11c5f54bdc20",
     "showTitle": false,
     "tableResultSettingsMap": {},
     "title": ""
    }
   },
   "outputs": [],
   "source": [
    "df_profit_dividend_recipients_and_partner_owner_income_by_total_income_range_in_minimum_wages = df_profit_dividend_recipients_and_partner_owner_income_by_total_income_range_in_minimum_wages.dropna(how='all')"
   ]
  },
  {
   "cell_type": "code",
   "execution_count": 0,
   "metadata": {
    "application/vnd.databricks.v1+cell": {
     "cellMetadata": {
      "byteLimit": 2048000,
      "rowLimit": 10000
     },
     "inputWidgets": {},
     "nuid": "2ac14414-6f15-4d73-a5d4-96a6886b074f",
     "showTitle": false,
     "tableResultSettingsMap": {},
     "title": ""
    }
   },
   "outputs": [],
   "source": [
    "df_casted_profit_dividend_recipients_and_partner_owner_income_by_total_income_range_in_minimum_wages = ffdsm.cast_columns_to_float(df_profit_dividend_recipients_and_partner_owner_income_by_total_income_range_in_minimum_wages, [\"AnoCalendario\", \"FaixaSmMensal\"])"
   ]
  },
  {
   "cell_type": "code",
   "execution_count": 0,
   "metadata": {
    "application/vnd.databricks.v1+cell": {
     "cellMetadata": {
      "byteLimit": 2048000,
      "rowLimit": 10000
     },
     "inputWidgets": {},
     "nuid": "c2d19d46-be2a-4bef-8936-73d9d527126c",
     "showTitle": false,
     "tableResultSettingsMap": {},
     "title": ""
    }
   },
   "outputs": [],
   "source": [
    "df_casted_profit_dividend_recipients_and_partner_owner_income_by_total_income_range_in_minimum_wages = ffdsm.rename_columns_with_df_name(df_casted_profit_dividend_recipients_and_partner_owner_income_by_total_income_range_in_minimum_wages, \"RecebedoresDeLucrosEDividendosRendSocioETitularMicroempresaPorFaixaDeRendimentoTotalEmSalariosMinimos\", [\"AnoCalendario\", \"FaixaSmMensal\"])"
   ]
  },
  {
   "cell_type": "code",
   "execution_count": 0,
   "metadata": {
    "application/vnd.databricks.v1+cell": {
     "cellMetadata": {
      "byteLimit": 2048000,
      "rowLimit": 10000
     },
     "inputWidgets": {},
     "nuid": "9f397cf7-3132-4f38-ab0f-83f40a217614",
     "showTitle": false,
     "tableResultSettingsMap": {},
     "title": ""
    }
   },
   "outputs": [],
   "source": [
    "dbutils.data.summarize(df_casted_profit_dividend_recipients_and_partner_owner_income_by_total_income_range_in_minimum_wages)"
   ]
  },
  {
   "cell_type": "code",
   "execution_count": 0,
   "metadata": {
    "application/vnd.databricks.v1+cell": {
     "cellMetadata": {
      "byteLimit": 2048000,
      "rowLimit": 10000
     },
     "inputWidgets": {},
     "nuid": "62bd6ab4-ba93-4fa5-987e-8cbcc049c5d9",
     "showTitle": false,
     "tableResultSettingsMap": {},
     "title": ""
    }
   },
   "outputs": [],
   "source": [
    "df_filled_casted_profit_dividend_recipients_and_partner_owner_income_by_total_income_range_in_minimum_wages = ffdsm.fill_nulls(df_casted_profit_dividend_recipients_and_partner_owner_income_by_total_income_range_in_minimum_wages, [\"AnoCalendario\", \"FaixaSmMensal\"])"
   ]
  },
  {
   "cell_type": "markdown",
   "metadata": {
    "application/vnd.databricks.v1+cell": {
     "cellMetadata": {
      "byteLimit": 2048000,
      "rowLimit": 10000
     },
     "inputWidgets": {},
     "nuid": "9307e9cf-a34c-480c-8b11-94da8f4de253",
     "showTitle": false,
     "tableResultSettingsMap": {},
     "title": ""
    }
   },
   "source": [
    "### \"Rendimentos Sujeitos à Tributação Exclusiva Definitiva\""
   ]
  },
  {
   "cell_type": "code",
   "execution_count": 0,
   "metadata": {
    "application/vnd.databricks.v1+cell": {
     "cellMetadata": {
      "byteLimit": 2048000,
      "rowLimit": 10000
     },
     "inputWidgets": {},
     "nuid": "b77f2dc9-095b-48aa-980e-66ba38844d1f",
     "showTitle": false,
     "tableResultSettingsMap": {},
     "title": ""
    }
   },
   "outputs": [],
   "source": [
    "df_income_subject_to_exclusive_definitive_taxation = df_income_subject_to_exclusive_definitive_taxation.dropna(how='all')"
   ]
  },
  {
   "cell_type": "code",
   "execution_count": 0,
   "metadata": {
    "application/vnd.databricks.v1+cell": {
     "cellMetadata": {
      "byteLimit": 2048000,
      "rowLimit": 10000
     },
     "inputWidgets": {},
     "nuid": "23e9e7ee-0adc-4212-b3e1-a0f78de55d2b",
     "showTitle": false,
     "tableResultSettingsMap": {},
     "title": ""
    }
   },
   "outputs": [],
   "source": [
    "df_income_subject_to_exclusive_definitive_taxation = df_income_subject_to_exclusive_definitive_taxation.withColumnRenamed(\"FaixaDeSalariosMinimos\", \"FaixaSmMensal\")"
   ]
  },
  {
   "cell_type": "code",
   "execution_count": 0,
   "metadata": {
    "application/vnd.databricks.v1+cell": {
     "cellMetadata": {
      "byteLimit": 2048000,
      "rowLimit": 10000
     },
     "inputWidgets": {},
     "nuid": "94d7dabb-c090-4de5-82fc-43a9007cec1b",
     "showTitle": false,
     "tableResultSettingsMap": {},
     "title": ""
    }
   },
   "outputs": [],
   "source": [
    "df_casted_income_subject_to_exclusive_definitive_taxation = ffdsm.cast_columns_to_float(df_income_subject_to_exclusive_definitive_taxation, [\"AnoCalendario\", \"FaixaSmMensal\"])"
   ]
  },
  {
   "cell_type": "code",
   "execution_count": 0,
   "metadata": {
    "application/vnd.databricks.v1+cell": {
     "cellMetadata": {
      "byteLimit": 2048000,
      "rowLimit": 10000
     },
     "inputWidgets": {},
     "nuid": "214f56e0-fc8e-49ce-a061-b99d1278e3a1",
     "showTitle": false,
     "tableResultSettingsMap": {},
     "title": ""
    }
   },
   "outputs": [],
   "source": [
    "df_casted_income_subject_to_exclusive_definitive_taxation = ffdsm.rename_columns_with_df_name(df_casted_income_subject_to_exclusive_definitive_taxation, \"RendimentosSujeitosATributacaoExclusivaDefinitiva\", [\"AnoCalendario\", \"FaixaSmMensal\"])"
   ]
  },
  {
   "cell_type": "code",
   "execution_count": 0,
   "metadata": {
    "application/vnd.databricks.v1+cell": {
     "cellMetadata": {
      "byteLimit": 2048000,
      "rowLimit": 10000
     },
     "inputWidgets": {},
     "nuid": "fc9dd4b2-1dba-4f1a-82c2-7ae46230c8f7",
     "showTitle": false,
     "tableResultSettingsMap": {},
     "title": ""
    }
   },
   "outputs": [],
   "source": [
    "dbutils.data.summarize(df_casted_income_subject_to_exclusive_definitive_taxation)"
   ]
  },
  {
   "cell_type": "code",
   "execution_count": 0,
   "metadata": {
    "application/vnd.databricks.v1+cell": {
     "cellMetadata": {
      "byteLimit": 2048000,
      "rowLimit": 10000
     },
     "inputWidgets": {},
     "nuid": "c1054757-11fa-4495-aa6a-983366556153",
     "showTitle": false,
     "tableResultSettingsMap": {},
     "title": ""
    }
   },
   "outputs": [],
   "source": [
    "df_filled_income_subject_to_exclusive_definitive_taxation = ffdsm.fill_nulls(df_casted_income_subject_to_exclusive_definitive_taxation, [\"AnoCalendario\", \"FaixaSmMensal\"])"
   ]
  },
  {
   "cell_type": "markdown",
   "metadata": {
    "application/vnd.databricks.v1+cell": {
     "cellMetadata": {
      "byteLimit": 2048000,
      "rowLimit": 10000
     },
     "inputWidgets": {},
     "nuid": "fa87b8e9-47be-4e2e-9d0a-9af5848b450c",
     "showTitle": false,
     "tableResultSettingsMap": {},
     "title": ""
    }
   },
   "source": [
    "### \"Rendimentos Tributáveis por Faixa de Salários-Mínimos\""
   ]
  },
  {
   "cell_type": "code",
   "execution_count": 0,
   "metadata": {
    "application/vnd.databricks.v1+cell": {
     "cellMetadata": {
      "byteLimit": 2048000,
      "rowLimit": 10000
     },
     "inputWidgets": {},
     "nuid": "bf27b496-add9-4af4-929d-66eac218146f",
     "showTitle": false,
     "tableResultSettingsMap": {},
     "title": ""
    }
   },
   "outputs": [],
   "source": [
    "df_taxable_income_by_minimum_wage_range = df_taxable_income_by_minimum_wage_range.dropna(how='all')"
   ]
  },
  {
   "cell_type": "code",
   "execution_count": 0,
   "metadata": {
    "application/vnd.databricks.v1+cell": {
     "cellMetadata": {
      "byteLimit": 2048000,
      "rowLimit": 10000
     },
     "inputWidgets": {},
     "nuid": "4ad586c4-33a6-429c-b7b1-6b63682c7927",
     "showTitle": false,
     "tableResultSettingsMap": {},
     "title": ""
    }
   },
   "outputs": [],
   "source": [
    "df_taxable_income_by_minimum_wage_range = df_taxable_income_by_minimum_wage_range.withColumnRenamed(\"FaixaDeSmMensal\", \"FaixaSmMensal\")"
   ]
  },
  {
   "cell_type": "code",
   "execution_count": 0,
   "metadata": {
    "application/vnd.databricks.v1+cell": {
     "cellMetadata": {
      "byteLimit": 2048000,
      "rowLimit": 10000
     },
     "inputWidgets": {},
     "nuid": "c67781fc-beb0-47cb-9011-ca73770cb215",
     "showTitle": false,
     "tableResultSettingsMap": {},
     "title": ""
    }
   },
   "outputs": [],
   "source": [
    "df_casted_taxable_income_by_minimum_wage_range = ffdsm.cast_columns_to_float(df_taxable_income_by_minimum_wage_range, [\"AnoCalendario\", \"FaixaSmMensal\"])"
   ]
  },
  {
   "cell_type": "code",
   "execution_count": 0,
   "metadata": {
    "application/vnd.databricks.v1+cell": {
     "cellMetadata": {
      "byteLimit": 2048000,
      "rowLimit": 10000
     },
     "inputWidgets": {},
     "nuid": "443b2f0f-0308-483c-9787-4bfce9ba0066",
     "showTitle": false,
     "tableResultSettingsMap": {},
     "title": ""
    }
   },
   "outputs": [],
   "source": [
    "df_casted_taxable_income_by_minimum_wage_range = ffdsm.rename_columns_with_df_name(df_casted_taxable_income_by_minimum_wage_range, \"RendimentosTributaveisPorFaixaDeSalariosMinimos\", [\"AnoCalendario\", \"FaixaSmMensal\"])"
   ]
  },
  {
   "cell_type": "code",
   "execution_count": 0,
   "metadata": {
    "application/vnd.databricks.v1+cell": {
     "cellMetadata": {
      "byteLimit": 2048000,
      "rowLimit": 10000
     },
     "inputWidgets": {},
     "nuid": "593b4cd5-7fea-461e-ac5e-a144e74d2a60",
     "showTitle": false,
     "tableResultSettingsMap": {},
     "title": ""
    }
   },
   "outputs": [],
   "source": [
    "dbutils.data.summarize(df_casted_taxable_income_by_minimum_wage_range)"
   ]
  },
  {
   "cell_type": "code",
   "execution_count": 0,
   "metadata": {
    "application/vnd.databricks.v1+cell": {
     "cellMetadata": {
      "byteLimit": 2048000,
      "rowLimit": 10000
     },
     "inputWidgets": {},
     "nuid": "7e2f5a3a-f3f8-49ac-a9f4-5757962b2203",
     "showTitle": false,
     "tableResultSettingsMap": {},
     "title": ""
    }
   },
   "outputs": [],
   "source": [
    "df_filled_taxable_income_by_minimum_wage_range = ffdsm.fill_nulls(df_casted_taxable_income_by_minimum_wage_range, [\"AnoCalendario\", \"FaixaSmMensal\"])"
   ]
  },
  {
   "cell_type": "markdown",
   "metadata": {
    "application/vnd.databricks.v1+cell": {
     "cellMetadata": {
      "byteLimit": 2048000,
      "rowLimit": 10000
     },
     "inputWidgets": {},
     "nuid": "e6758e5c-619f-44eb-a7ef-e273f15b3c11",
     "showTitle": false,
     "tableResultSettingsMap": {},
     "title": ""
    }
   },
   "source": [
    "### \"Rendimentos Isentos e Não Tributáveis\""
   ]
  },
  {
   "cell_type": "code",
   "execution_count": 0,
   "metadata": {
    "application/vnd.databricks.v1+cell": {
     "cellMetadata": {
      "byteLimit": 2048000,
      "rowLimit": 10000
     },
     "inputWidgets": {},
     "nuid": "0b0b5016-e962-4975-9d5b-b3e7b7e2391b",
     "showTitle": false,
     "tableResultSettingsMap": {},
     "title": ""
    }
   },
   "outputs": [],
   "source": [
    "df_tax_exempt_and_non_taxable_income = df_tax_exempt_and_non_taxable_income.dropna(how='all')"
   ]
  },
  {
   "cell_type": "code",
   "execution_count": 0,
   "metadata": {
    "application/vnd.databricks.v1+cell": {
     "cellMetadata": {
      "byteLimit": 2048000,
      "rowLimit": 10000
     },
     "inputWidgets": {},
     "nuid": "c0bdd186-4e9b-4bf1-9f8a-6c1e32baf2fd",
     "showTitle": false,
     "tableResultSettingsMap": {},
     "title": ""
    }
   },
   "outputs": [],
   "source": [
    "df_tax_exempt_and_non_taxable_income = df_tax_exempt_and_non_taxable_income.withColumnRenamed(\"FaixaDeSalariosMinimos\", \"FaixaSmMensal\")"
   ]
  },
  {
   "cell_type": "code",
   "execution_count": 0,
   "metadata": {
    "application/vnd.databricks.v1+cell": {
     "cellMetadata": {
      "byteLimit": 2048000,
      "rowLimit": 10000
     },
     "inputWidgets": {},
     "nuid": "df582368-8173-48b7-96c4-39e2e091a928",
     "showTitle": false,
     "tableResultSettingsMap": {},
     "title": ""
    }
   },
   "outputs": [],
   "source": [
    "df_casted_tax_exempt_and_non_taxable_income = ffdsm.cast_columns_to_float(df_tax_exempt_and_non_taxable_income, [\"AnoCalendario\", \"FaixaSmMensal\"])"
   ]
  },
  {
   "cell_type": "code",
   "execution_count": 0,
   "metadata": {
    "application/vnd.databricks.v1+cell": {
     "cellMetadata": {
      "byteLimit": 2048000,
      "rowLimit": 10000
     },
     "inputWidgets": {},
     "nuid": "472dc536-0c8e-4093-9236-cbed2a89788f",
     "showTitle": false,
     "tableResultSettingsMap": {},
     "title": ""
    }
   },
   "outputs": [],
   "source": [
    "df_casted_tax_exempt_and_non_taxable_income = ffdsm.rename_columns_with_df_name(df_casted_tax_exempt_and_non_taxable_income, \"RendIsenENTrib\", [\"AnoCalendario\", \"FaixaSmMensal\"])"
   ]
  },
  {
   "cell_type": "code",
   "execution_count": 0,
   "metadata": {
    "application/vnd.databricks.v1+cell": {
     "cellMetadata": {
      "byteLimit": 2048000,
      "rowLimit": 10000
     },
     "inputWidgets": {},
     "nuid": "f3ee342d-3c31-4383-b727-bdb91bfe65cf",
     "showTitle": false,
     "tableResultSettingsMap": {},
     "title": ""
    }
   },
   "outputs": [],
   "source": [
    "dbutils.data.summarize(df_casted_tax_exempt_and_non_taxable_income)"
   ]
  },
  {
   "cell_type": "code",
   "execution_count": 0,
   "metadata": {
    "application/vnd.databricks.v1+cell": {
     "cellMetadata": {
      "byteLimit": 2048000,
      "rowLimit": 10000
     },
     "inputWidgets": {},
     "nuid": "79880764-ce2b-49b0-8b89-43941211f240",
     "showTitle": false,
     "tableResultSettingsMap": {},
     "title": ""
    }
   },
   "outputs": [],
   "source": [
    "df_filled_tax_exempt_and_non_taxable_income = ffdsm.fill_nulls(df_casted_tax_exempt_and_non_taxable_income, [\"AnoCalendario\", \"FaixaSmMensal\"])"
   ]
  },
  {
   "cell_type": "code",
   "execution_count": 0,
   "metadata": {
    "application/vnd.databricks.v1+cell": {
     "cellMetadata": {
      "byteLimit": 2048000,
      "rowLimit": 10000
     },
     "inputWidgets": {},
     "nuid": "679f4f4a-f0a2-4727-be0e-53d4af540bab",
     "showTitle": false,
     "tableResultSettingsMap": {
      "0": {
       "dataGridStateBlob": "{\"version\":1,\"tableState\":{\"columnPinning\":{\"left\":[\"#row_number#\"],\"right\":[]},\"columnSizing\":{},\"columnVisibility\":{}},\"settings\":{\"columns\":{}},\"syncTimestamp\":1756492382908}",
       "filterBlob": null,
       "queryPlanFiltersBlob": null,
       "tableResultIndex": 0
      }
     },
     "title": ""
    }
   },
   "outputs": [],
   "source": [
    "display(df_filled_tax_exempt_and_non_taxable_income)"
   ]
  },
  {
   "cell_type": "markdown",
   "metadata": {
    "application/vnd.databricks.v1+cell": {
     "cellMetadata": {
      "byteLimit": 2048000,
      "rowLimit": 10000
     },
     "inputWidgets": {},
     "nuid": "4bf5b055-0208-41ee-af2b-6c8290d4a78d",
     "showTitle": false,
     "tableResultSettingsMap": {},
     "title": ""
    }
   },
   "source": [
    "## Aggregation By \"Ano e Faixa Salarial\""
   ]
  },
  {
   "cell_type": "code",
   "execution_count": 0,
   "metadata": {
    "application/vnd.databricks.v1+cell": {
     "cellMetadata": {
      "byteLimit": 2048000,
      "rowLimit": 10000
     },
     "inputWidgets": {},
     "nuid": "d8a2b6ad-0361-413b-96ac-1d93a22b7cad",
     "showTitle": false,
     "tableResultSettingsMap": {},
     "title": ""
    }
   },
   "outputs": [],
   "source": [
    "df1 = df_filled_range_of_gross_taxable_income_in_minimum_wages.join(df_filled_taxable_income_range_exclusive_taxation_on_minimum_wages, on=[\"AnoCalendario\", \"FaixaSmMensal\"], how=\"full_outer\")"
   ]
  },
  {
   "cell_type": "code",
   "execution_count": 0,
   "metadata": {
    "application/vnd.databricks.v1+cell": {
     "cellMetadata": {
      "byteLimit": 2048000,
      "rowLimit": 10000
     },
     "inputWidgets": {},
     "nuid": "eadb1c5e-20a4-4f3e-b072-60c1ef82d877",
     "showTitle": false,
     "tableResultSettingsMap": {},
     "title": ""
    }
   },
   "outputs": [],
   "source": [
    "df2 = df1.join(df_filled_casted_range_of_total_income_in_minimum_wages, on=[\"AnoCalendario\", \"FaixaSmMensal\"], how=\"full_outer\")"
   ]
  },
  {
   "cell_type": "code",
   "execution_count": 0,
   "metadata": {
    "application/vnd.databricks.v1+cell": {
     "cellMetadata": {
      "byteLimit": 2048000,
      "rowLimit": 10000
     },
     "inputWidgets": {},
     "nuid": "b07b2c80-8fa4-4b30-968f-2514f37339c3",
     "showTitle": false,
     "tableResultSettingsMap": {},
     "title": ""
    }
   },
   "outputs": [],
   "source": [
    "df3 = df2.join(df_filled_casted_profit_dividend_recipients_and_partner_owner_income_by_total_income_range_in_minimum_wages, on=[\"AnoCalendario\", \"FaixaSmMensal\"], how=\"full_outer\")"
   ]
  },
  {
   "cell_type": "code",
   "execution_count": 0,
   "metadata": {
    "application/vnd.databricks.v1+cell": {
     "cellMetadata": {
      "byteLimit": 2048000,
      "rowLimit": 10000
     },
     "inputWidgets": {},
     "nuid": "f20ef5ea-550e-4d85-a79e-f38b7d1b4dab",
     "showTitle": false,
     "tableResultSettingsMap": {},
     "title": ""
    }
   },
   "outputs": [],
   "source": [
    "df4 = df3.join(df_filled_income_subject_to_exclusive_definitive_taxation, on=[\"AnoCalendario\", \"FaixaSmMensal\"], how=\"full_outer\")"
   ]
  },
  {
   "cell_type": "code",
   "execution_count": 0,
   "metadata": {
    "application/vnd.databricks.v1+cell": {
     "cellMetadata": {
      "byteLimit": 2048000,
      "rowLimit": 10000
     },
     "inputWidgets": {},
     "nuid": "278f16df-0be0-4825-aa2d-87d4fb3daad6",
     "showTitle": false,
     "tableResultSettingsMap": {},
     "title": ""
    }
   },
   "outputs": [],
   "source": [
    "df5 = df4.join(df_filled_taxable_income_by_minimum_wage_range, on=[\"AnoCalendario\", \"FaixaSmMensal\"], how=\"full_outer\")"
   ]
  },
  {
   "cell_type": "code",
   "execution_count": 0,
   "metadata": {
    "application/vnd.databricks.v1+cell": {
     "cellMetadata": {
      "byteLimit": 2048000,
      "rowLimit": 10000
     },
     "inputWidgets": {},
     "nuid": "ec3a3fef-d3a3-4a6e-8b6a-39c5774b0b66",
     "showTitle": false,
     "tableResultSettingsMap": {},
     "title": ""
    }
   },
   "outputs": [],
   "source": [
    "df_silver_earnings = df5.join(df_filled_tax_exempt_and_non_taxable_income, on=[\"AnoCalendario\", \"FaixaSmMensal\"], how=\"full_outer\")"
   ]
  },
  {
   "cell_type": "code",
   "execution_count": 0,
   "metadata": {
    "application/vnd.databricks.v1+cell": {
     "cellMetadata": {
      "byteLimit": 2048000,
      "rowLimit": 10000
     },
     "inputWidgets": {},
     "nuid": "9606b820-8da5-4267-a20f-35fd0e96ea70",
     "showTitle": false,
     "tableResultSettingsMap": {
      "0": {
       "dataGridStateBlob": "{\"version\":1,\"tableState\":{\"columnPinning\":{\"left\":[\"#row_number#\"],\"right\":[]},\"columnSizing\":{},\"columnVisibility\":{}},\"settings\":{\"columns\":{}},\"syncTimestamp\":1756491105382}",
       "filterBlob": null,
       "queryPlanFiltersBlob": null,
       "tableResultIndex": 0
      }
     },
     "title": ""
    }
   },
   "outputs": [],
   "source": [
    "display(df_silver_earnings)"
   ]
  },
  {
   "cell_type": "code",
   "execution_count": 0,
   "metadata": {
    "application/vnd.databricks.v1+cell": {
     "cellMetadata": {
      "byteLimit": 2048000,
      "rowLimit": 10000
     },
     "inputWidgets": {},
     "nuid": "2c986403-be2b-4f83-aa00-0960ad824d7e",
     "showTitle": false,
     "tableResultSettingsMap": {},
     "title": ""
    }
   },
   "outputs": [],
   "source": [
    "df_filled_silver_earnings = ffdsm.fill_nulls(df_silver_earnings, [\"AnoCalendario\", \"FaixaSmMensal\"])"
   ]
  },
  {
   "cell_type": "code",
   "execution_count": 0,
   "metadata": {
    "application/vnd.databricks.v1+cell": {
     "cellMetadata": {
      "byteLimit": 2048000,
      "rowLimit": 10000
     },
     "inputWidgets": {},
     "nuid": "0bd02406-5802-44be-b5db-84797b04c7ec",
     "showTitle": false,
     "tableResultSettingsMap": {
      "0": {
       "dataGridStateBlob": "{\"version\":1,\"tableState\":{\"columnPinning\":{\"left\":[\"#row_number#\"],\"right\":[]},\"columnSizing\":{},\"columnVisibility\":{}},\"settings\":{\"columns\":{}},\"syncTimestamp\":1756492438710}",
       "filterBlob": null,
       "queryPlanFiltersBlob": null,
       "tableResultIndex": 0
      }
     },
     "title": ""
    }
   },
   "outputs": [],
   "source": [
    "df_nulls = ffdsm.count_nulls(df_filled_silver_earnings)\n",
    "display(df_nulls)"
   ]
  },
  {
   "cell_type": "markdown",
   "metadata": {
    "application/vnd.databricks.v1+cell": {
     "cellMetadata": {
      "byteLimit": 2048000,
      "rowLimit": 10000
     },
     "inputWidgets": {},
     "nuid": "1f788bb9-7645-453c-a4c8-7a3d16e5c2ce",
     "showTitle": false,
     "tableResultSettingsMap": {},
     "title": ""
    }
   },
   "source": [
    "## Save as Delta in Silver Layer"
   ]
  },
  {
   "cell_type": "code",
   "execution_count": 0,
   "metadata": {
    "application/vnd.databricks.v1+cell": {
     "cellMetadata": {
      "byteLimit": 2048000,
      "rowLimit": 10000
     },
     "inputWidgets": {},
     "nuid": "9e0b735e-4ed7-4e07-bdc2-4f71deaa0841",
     "showTitle": false,
     "tableResultSettingsMap": {},
     "title": ""
    }
   },
   "outputs": [],
   "source": [
    "spark.sql(f\"CREATE SCHEMA IF NOT EXISTS brazilian_tax_big_numbers.silver_layer\")"
   ]
  },
  {
   "cell_type": "code",
   "execution_count": 0,
   "metadata": {
    "application/vnd.databricks.v1+cell": {
     "cellMetadata": {
      "byteLimit": 2048000,
      "rowLimit": 10000
     },
     "inputWidgets": {},
     "nuid": "73ab94b4-77a5-408f-b349-065e7014c37f",
     "showTitle": false,
     "tableResultSettingsMap": {},
     "title": ""
    }
   },
   "outputs": [],
   "source": [
    "error = None\n",
    "\n",
    "try:\n",
    "    df_filled_silver_earnings.write \\\n",
    "        .mode(\"overwrite\") \\\n",
    "        .saveAsTable(f\"brazilian_tax_big_numbers.silver_layer.delta_rendimentos\")\n",
    "    error = None\n",
    "except Exception as e:\n",
    "    error = str(e)\n",
    "    print(error)"
   ]
  }
 ],
 "metadata": {
  "application/vnd.databricks.v1+notebook": {
   "computePreferences": {
    "hardware": {
     "accelerator": null,
     "gpuPoolId": null,
     "memory": null
    }
   },
   "dashboards": [],
   "environmentMetadata": {
    "base_environment": "",
    "environment_version": "3"
   },
   "inputWidgetPreferences": null,
   "language": "python",
   "notebookMetadata": {
    "pythonIndentUnit": 4
   },
   "notebookName": "transformation_and_aggregation_earnings",
   "widgets": {}
  },
  "language_info": {
   "name": "python"
  }
 },
 "nbformat": 4,
 "nbformat_minor": 0
}
