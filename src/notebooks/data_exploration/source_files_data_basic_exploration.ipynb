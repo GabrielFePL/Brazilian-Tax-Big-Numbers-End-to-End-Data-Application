{
 "cells": [
  {
   "cell_type": "markdown",
   "metadata": {
    "application/vnd.databricks.v1+cell": {
     "cellMetadata": {},
     "inputWidgets": {},
     "nuid": "1ac904fc-4ff0-421f-83cf-3d0596adc563",
     "showTitle": false,
     "tableResultSettingsMap": {},
     "title": ""
    }
   },
   "source": [
    "# Source Files Data Basic Exploration"
   ]
  },
  {
   "cell_type": "markdown",
   "metadata": {
    "application/vnd.databricks.v1+cell": {
     "cellMetadata": {
      "byteLimit": 2048000,
      "rowLimit": 10000
     },
     "inputWidgets": {},
     "nuid": "cc22bc74-91cc-4882-aaa1-85c3a09497b0",
     "showTitle": false,
     "tableResultSettingsMap": {},
     "title": ""
    }
   },
   "source": [
    "## Environment Configuration"
   ]
  },
  {
   "cell_type": "code",
   "execution_count": 0,
   "metadata": {
    "application/vnd.databricks.v1+cell": {
     "cellMetadata": {
      "byteLimit": 2048000,
      "rowLimit": 10000
     },
     "inputWidgets": {},
     "nuid": "d88c7478-534a-43b9-a225-08cbdfe07aff",
     "showTitle": false,
     "tableResultSettingsMap": {},
     "title": ""
    }
   },
   "outputs": [],
   "source": [
    "from pyspark.sql import functions as F"
   ]
  },
  {
   "cell_type": "markdown",
   "metadata": {
    "application/vnd.databricks.v1+cell": {
     "cellMetadata": {},
     "inputWidgets": {},
     "nuid": "99243ee9-9f85-46db-9778-12ff406ffa6f",
     "showTitle": false,
     "tableResultSettingsMap": {},
     "title": ""
    }
   },
   "source": [
    "## Ingestion of Tables and Basic Data Analysis"
   ]
  },
  {
   "cell_type": "markdown",
   "metadata": {
    "application/vnd.databricks.v1+cell": {
     "cellMetadata": {
      "byteLimit": 2048000,
      "rowLimit": 10000
     },
     "inputWidgets": {},
     "nuid": "952cc10f-e8ee-4052-9ebe-4b9f4aa77383",
     "showTitle": false,
     "tableResultSettingsMap": {},
     "title": ""
    }
   },
   "source": [
    "### Assets and Rights Table"
   ]
  },
  {
   "cell_type": "code",
   "execution_count": 0,
   "metadata": {
    "application/vnd.databricks.v1+cell": {
     "cellMetadata": {
      "byteLimit": 2048000,
      "rowLimit": 10000
     },
     "inputWidgets": {},
     "nuid": "f1ba68ea-3b73-4481-8e07-bb17ee0252ad",
     "showTitle": false,
     "tableResultSettingsMap": {
      "0": {
       "dataGridStateBlob": "{\"version\":1,\"tableState\":{\"columnPinning\":{\"left\":[\"#row_number#\"],\"right\":[]},\"columnSizing\":{},\"columnVisibility\":{}},\"settings\":{\"columns\":{}},\"syncTimestamp\":1754916769719}",
       "filterBlob": null,
       "queryPlanFiltersBlob": null,
       "tableResultIndex": 0
      }
     },
     "title": ""
    }
   },
   "outputs": [],
   "source": [
    "df_goods_and_rights = spark.read.format(\"csv\").option(\"header\", \"true\").option(\"delimiter\", \";\").load(\"/Volumes/brazilian_tax_big_numbers/source_files/source_files/Bens e Direitos.csv\")\n",
    "\n",
    "display(df_goods_and_rights)"
   ]
  },
  {
   "cell_type": "code",
   "execution_count": 0,
   "metadata": {
    "application/vnd.databricks.v1+cell": {
     "cellMetadata": {
      "byteLimit": 2048000,
      "rowLimit": 10000
     },
     "inputWidgets": {},
     "nuid": "93b4fea1-7180-4936-abea-31e638e32187",
     "showTitle": false,
     "tableResultSettingsMap": {},
     "title": ""
    }
   },
   "outputs": [],
   "source": [
    "df_colunm_qtt = spark.createDataFrame([(len(df_goods_and_rights.columns),)], [\"num_columns\"])\n",
    "display(df_colunm_qtt)"
   ]
  },
  {
   "cell_type": "markdown",
   "metadata": {
    "application/vnd.databricks.v1+cell": {
     "cellMetadata": {
      "byteLimit": 2048000,
      "rowLimit": 10000
     },
     "inputWidgets": {},
     "nuid": "6e60f506-acd2-456a-9409-35d3e2f5709b",
     "showTitle": false,
     "tableResultSettingsMap": {},
     "title": ""
    }
   },
   "source": [
    "### State of Residence Capital of the Declarant Table"
   ]
  },
  {
   "cell_type": "code",
   "execution_count": 0,
   "metadata": {
    "application/vnd.databricks.v1+cell": {
     "cellMetadata": {
      "byteLimit": 2048000,
      "rowLimit": 10000
     },
     "inputWidgets": {},
     "nuid": "819bccff-77d2-487f-bb20-4589e233f1c6",
     "showTitle": false,
     "tableResultSettingsMap": {
      "0": {
       "dataGridStateBlob": "{\"version\":1,\"tableState\":{\"columnPinning\":{\"left\":[\"#row_number#\"],\"right\":[]},\"columnSizing\":{},\"columnVisibility\":{}},\"settings\":{\"columns\":{}},\"syncTimestamp\":1754918051860}",
       "filterBlob": null,
       "queryPlanFiltersBlob": null,
       "tableResultIndex": 0
      }
     },
     "title": ""
    }
   },
   "outputs": [],
   "source": [
    "df_residence_state_capital = spark.read.format(\"csv\").option(\"header\", \"true\").option(\"delimiter\", \";\").load(\"/Volumes/brazilian_tax_big_numbers/source_files/source_files/capital-de-estado-de-residencia-do-declarante.csv\")\n",
    "\n",
    "display(df_residence_state_capital)"
   ]
  },
  {
   "cell_type": "code",
   "execution_count": 0,
   "metadata": {
    "application/vnd.databricks.v1+cell": {
     "cellMetadata": {
      "byteLimit": 2048000,
      "rowLimit": 10000
     },
     "inputWidgets": {},
     "nuid": "de558528-c1dc-4a5a-89c3-1e2d789d9031",
     "showTitle": false,
     "tableResultSettingsMap": {},
     "title": ""
    }
   },
   "outputs": [],
   "source": [
    "display(df_residence_state_capital.groupBy(\"Capital - Estado\").agg(F.count(\"*\")).alias(\"count\"))"
   ]
  },
  {
   "cell_type": "code",
   "execution_count": 0,
   "metadata": {
    "application/vnd.databricks.v1+cell": {
     "cellMetadata": {
      "byteLimit": 2048000,
      "rowLimit": 10000
     },
     "inputWidgets": {},
     "nuid": "d478370c-103c-4850-b740-987c0ee6c04f",
     "showTitle": false,
     "tableResultSettingsMap": {},
     "title": ""
    }
   },
   "outputs": [],
   "source": [
    "df_colunm_qtt = df_colunm_qtt.withColumn(\"total_columns\", df_colunm_qtt.num_columns + len(df_residence_state_capital.columns))\n",
    "df_colunm_qtt = df_colunm_qtt.withColumn(\"num_columns\", F.lit(len(df_residence_state_capital.columns)))\n",
    "display(df_colunm_qtt)"
   ]
  },
  {
   "cell_type": "markdown",
   "metadata": {
    "application/vnd.databricks.v1+cell": {
     "cellMetadata": {
      "byteLimit": 2048000,
      "rowLimit": 10000
     },
     "inputWidgets": {},
     "nuid": "59dea651-496a-4689-abc7-d2873318e473",
     "showTitle": false,
     "tableResultSettingsMap": {},
     "title": ""
    }
   },
   "source": [
    "### Debts and Liabilities Table"
   ]
  },
  {
   "cell_type": "code",
   "execution_count": 0,
   "metadata": {
    "application/vnd.databricks.v1+cell": {
     "cellMetadata": {
      "byteLimit": 2048000,
      "rowLimit": 10000
     },
     "inputWidgets": {},
     "nuid": "e1b0991b-0a4f-4189-8b10-ec61df53adc9",
     "showTitle": false,
     "tableResultSettingsMap": {},
     "title": ""
    }
   },
   "outputs": [],
   "source": [
    "df_debts_and_burdens = spark.read.format(\"csv\").option(\"header\", \"true\").option(\"delimiter\", \";\").load(\"/Volumes/brazilian_tax_big_numbers/source_files/source_files/dividas-e-onus.csv\")\n",
    "\n",
    "display(df_debts_and_burdens)"
   ]
  },
  {
   "cell_type": "code",
   "execution_count": 0,
   "metadata": {
    "application/vnd.databricks.v1+cell": {
     "cellMetadata": {
      "byteLimit": 2048000,
      "rowLimit": 10000
     },
     "inputWidgets": {},
     "nuid": "8581c08e-bb11-4b68-92a6-da949c367800",
     "showTitle": false,
     "tableResultSettingsMap": {},
     "title": ""
    }
   },
   "outputs": [],
   "source": [
    "df_colunm_qtt = df_colunm_qtt.withColumn(\"total_columns\", df_colunm_qtt.total_columns + len(df_debts_and_burdens.columns))\n",
    "df_colunm_qtt = df_colunm_qtt.withColumn(\"num_columns\", F.lit(len(df_debts_and_burdens.columns)))\n",
    "display(df_colunm_qtt)"
   ]
  },
  {
   "cell_type": "markdown",
   "metadata": {
    "application/vnd.databricks.v1+cell": {
     "cellMetadata": {
      "byteLimit": 2048000,
      "rowLimit": 10000
     },
     "inputWidgets": {},
     "nuid": "59c7675d-c764-4783-a3d8-7fbbf8555293",
     "showTitle": false,
     "tableResultSettingsMap": {},
     "title": ""
    }
   },
   "source": [
    "### State of Residence Table"
   ]
  },
  {
   "cell_type": "code",
   "execution_count": 0,
   "metadata": {
    "application/vnd.databricks.v1+cell": {
     "cellMetadata": {
      "byteLimit": 2048000,
      "rowLimit": 10000
     },
     "inputWidgets": {},
     "nuid": "e951383d-1e7e-4b4e-92bc-f57815f9289d",
     "showTitle": false,
     "tableResultSettingsMap": {
      "0": {
       "dataGridStateBlob": "{\"version\":1,\"tableState\":{\"columnPinning\":{\"left\":[\"#row_number#\"],\"right\":[]},\"columnSizing\":{},\"columnVisibility\":{}},\"settings\":{\"columns\":{}},\"syncTimestamp\":1754919093303}",
       "filterBlob": null,
       "queryPlanFiltersBlob": null,
       "tableResultIndex": 0
      }
     },
     "title": ""
    }
   },
   "outputs": [],
   "source": [
    "df_state = spark.read.format(\"csv\").option(\"header\", \"true\").option(\"delimiter\", \";\").load(\"/Volumes/brazilian_tax_big_numbers/source_files/source_files/estado-de-residencia-do-declarante.csv\")\n",
    "\n",
    "display(df_state)"
   ]
  },
  {
   "cell_type": "code",
   "execution_count": 0,
   "metadata": {
    "application/vnd.databricks.v1+cell": {
     "cellMetadata": {
      "byteLimit": 2048000,
      "rowLimit": 10000
     },
     "inputWidgets": {},
     "nuid": "eb7d6e11-fe62-4aaf-b9ea-5a5d6eceea1f",
     "showTitle": false,
     "tableResultSettingsMap": {
      "0": {
       "dataGridStateBlob": "{\"version\":1,\"tableState\":{\"columnPinning\":{\"left\":[\"#row_number#\"],\"right\":[]},\"columnSizing\":{},\"columnVisibility\":{}},\"settings\":{\"columns\":{}},\"syncTimestamp\":1754919238056}",
       "filterBlob": null,
       "queryPlanFiltersBlob": null,
       "tableResultIndex": 0
      }
     },
     "title": ""
    }
   },
   "outputs": [],
   "source": [
    "display(df_state.groupBy(\"Estado\").agg(F.count(\"*\")).alias(\"count\"))"
   ]
  },
  {
   "cell_type": "code",
   "execution_count": 0,
   "metadata": {
    "application/vnd.databricks.v1+cell": {
     "cellMetadata": {
      "byteLimit": 2048000,
      "rowLimit": 10000
     },
     "inputWidgets": {},
     "nuid": "9f8fd7e0-df28-435b-9d73-9802dd1f05d7",
     "showTitle": false,
     "tableResultSettingsMap": {},
     "title": ""
    }
   },
   "outputs": [],
   "source": [
    "df_colunm_qtt = df_colunm_qtt.withColumn(\"total_columns\", df_colunm_qtt.total_columns + len(df_state.columns))\n",
    "df_colunm_qtt = df_colunm_qtt.withColumn(\"num_columns\", F.lit(len(df_state.columns)))\n",
    "display(df_colunm_qtt)"
   ]
  },
  {
   "cell_type": "markdown",
   "metadata": {
    "application/vnd.databricks.v1+cell": {
     "cellMetadata": {
      "byteLimit": 2048000,
      "rowLimit": 10000
     },
     "inputWidgets": {},
     "nuid": "1bd9352d-f232-451a-97ed-d34b6405f1a3",
     "showTitle": false,
     "tableResultSettingsMap": {},
     "title": ""
    }
   },
   "source": [
    "### Age Group and Gender Table"
   ]
  },
  {
   "cell_type": "code",
   "execution_count": 0,
   "metadata": {
    "application/vnd.databricks.v1+cell": {
     "cellMetadata": {
      "byteLimit": 2048000,
      "rowLimit": 10000
     },
     "inputWidgets": {},
     "nuid": "cf986f91-2b00-498e-a7e0-b7d30b3fbcd9",
     "showTitle": false,
     "tableResultSettingsMap": {
      "0": {
       "dataGridStateBlob": "{\"version\":1,\"tableState\":{\"columnPinning\":{\"left\":[\"#row_number#\"],\"right\":[]},\"columnSizing\":{},\"columnVisibility\":{}},\"settings\":{\"columns\":{}},\"syncTimestamp\":1754919640289}",
       "filterBlob": null,
       "queryPlanFiltersBlob": null,
       "tableResultIndex": 0
      }
     },
     "title": ""
    }
   },
   "outputs": [],
   "source": [
    "df_age_group_and_gender = spark.read.format(\"csv\").option(\"header\", \"true\").option(\"delimiter\", \";\").load(\"/Volumes/brazilian_tax_big_numbers/source_files/source_files/Faixa Etária do Declarante e Gênero.csv\")\n",
    "\n",
    "display(df_age_group_and_gender)"
   ]
  },
  {
   "cell_type": "code",
   "execution_count": 0,
   "metadata": {
    "application/vnd.databricks.v1+cell": {
     "cellMetadata": {
      "byteLimit": 2048000,
      "rowLimit": 10000
     },
     "inputWidgets": {},
     "nuid": "f1e2a12b-16a6-470f-b119-459f36fe17e6",
     "showTitle": false,
     "tableResultSettingsMap": {},
     "title": ""
    }
   },
   "outputs": [],
   "source": [
    "df_colunm_qtt = df_colunm_qtt.withColumn(\"total_columns\", df_colunm_qtt.total_columns + len(df_age_group_and_gender.columns))\n",
    "df_colunm_qtt = df_colunm_qtt.withColumn(\"num_columns\", F.lit(len(df_age_group_and_gender.columns)))\n",
    "display(df_colunm_qtt)"
   ]
  },
  {
   "cell_type": "markdown",
   "metadata": {
    "application/vnd.databricks.v1+cell": {
     "cellMetadata": {
      "byteLimit": 2048000,
      "rowLimit": 10000
     },
     "inputWidgets": {},
     "nuid": "9fd455f4-0da6-4c5d-af56-7b7d76bc8ad2",
     "showTitle": false,
     "tableResultSettingsMap": {},
     "title": ""
    }
   },
   "source": [
    "### Annual Taxable Base Range Table"
   ]
  },
  {
   "cell_type": "code",
   "execution_count": 0,
   "metadata": {
    "application/vnd.databricks.v1+cell": {
     "cellMetadata": {
      "byteLimit": 2048000,
      "rowLimit": 10000
     },
     "inputWidgets": {},
     "nuid": "762d9adc-7c83-4baa-a550-2a853991accb",
     "showTitle": false,
     "tableResultSettingsMap": {},
     "title": ""
    }
   },
   "outputs": [],
   "source": [
    "df_annual_calculation_base_range = spark.read.format(\"csv\").option(\"header\", \"true\").option(\"delimiter\", \";\").load(\"/Volumes/brazilian_tax_big_numbers/source_files/source_files/faixa-de-base-de-calculo-anual.csv\")\n",
    "\n",
    "display(df_annual_calculation_base_range)"
   ]
  },
  {
   "cell_type": "code",
   "execution_count": 0,
   "metadata": {
    "application/vnd.databricks.v1+cell": {
     "cellMetadata": {
      "byteLimit": 2048000,
      "rowLimit": 10000
     },
     "inputWidgets": {},
     "nuid": "9bced6e4-8944-4824-b203-e064e2dcb009",
     "showTitle": false,
     "tableResultSettingsMap": {},
     "title": ""
    }
   },
   "outputs": [],
   "source": [
    "df_base_range_for_calculation_in_minimum_wages_and_gender = spark.read.format(\"csv\").option(\"header\", \"true\").option(\"delimiter\", \";\").load(\"/Volumes/brazilian_tax_big_numbers/source_files/source_files/faixa-de-base-de-calculo-em-salarios-minimos-e-genero.csv\")\n",
    "\n",
    "display(df_base_range_for_calculation_in_minimum_wages_and_gender)"
   ]
  },
  {
   "cell_type": "code",
   "execution_count": 0,
   "metadata": {
    "application/vnd.databricks.v1+cell": {
     "cellMetadata": {
      "byteLimit": 2048000,
      "rowLimit": 10000
     },
     "inputWidgets": {},
     "nuid": "5e34c967-c365-4e97-b581-3d1e58347be1",
     "showTitle": false,
     "tableResultSettingsMap": {},
     "title": ""
    }
   },
   "outputs": [],
   "source": [
    "df_colunm_qtt = df_colunm_qtt.withColumn(\"total_columns\", df_colunm_qtt.total_columns + len(df_base_range_for_calculation_in_minimum_wages_and_gender.columns))\n",
    "df_colunm_qtt = df_colunm_qtt.withColumn(\"num_columns\", F.lit(len(df_base_range_for_calculation_in_minimum_wages_and_gender.columns)))\n",
    "display(df_colunm_qtt)"
   ]
  },
  {
   "cell_type": "markdown",
   "metadata": {
    "application/vnd.databricks.v1+cell": {
     "cellMetadata": {
      "byteLimit": 2048000,
      "rowLimit": 10000
     },
     "inputWidgets": {},
     "nuid": "3815b103-68b4-476e-bff1-08fdb85c7f2f",
     "showTitle": false,
     "tableResultSettingsMap": {},
     "title": ""
    }
   },
   "source": [
    "### Donations and Inheritances Range Table"
   ]
  },
  {
   "cell_type": "code",
   "execution_count": 0,
   "metadata": {
    "application/vnd.databricks.v1+cell": {
     "cellMetadata": {
      "byteLimit": 2048000,
      "rowLimit": 10000
     },
     "inputWidgets": {},
     "nuid": "64a3ad2c-39d6-4d09-95c8-1b21fa430f9b",
     "showTitle": false,
     "tableResultSettingsMap": {},
     "title": ""
    }
   },
   "outputs": [],
   "source": [
    "df_donation_and_inheritance_range = spark.read.format(\"csv\").option(\"header\", \"true\").option(\"delimiter\", \";\").load(\"/Volumes/brazilian_tax_big_numbers/source_files/source_files/faixa-de-doacoes-e-herancas.csv\")\n",
    "\n",
    "display(df_donation_and_inheritance_range)"
   ]
  },
  {
   "cell_type": "code",
   "execution_count": 0,
   "metadata": {
    "application/vnd.databricks.v1+cell": {
     "cellMetadata": {
      "byteLimit": 2048000,
      "rowLimit": 10000
     },
     "inputWidgets": {},
     "nuid": "b78a1d5f-6297-4e82-9b26-81544cff1904",
     "showTitle": false,
     "tableResultSettingsMap": {},
     "title": ""
    }
   },
   "outputs": [],
   "source": [
    "df_colunm_qtt = df_colunm_qtt.withColumn(\"total_columns\", df_colunm_qtt.total_columns + len(df_donation_and_inheritance_range.columns))\n",
    "df_colunm_qtt = df_colunm_qtt.withColumn(\"num_columns\", F.lit(len(df_donation_and_inheritance_range.columns)))\n",
    "display(df_colunm_qtt)"
   ]
  },
  {
   "cell_type": "markdown",
   "metadata": {
    "application/vnd.databricks.v1+cell": {
     "cellMetadata": {
      "byteLimit": 2048000,
      "rowLimit": 10000
     },
     "inputWidgets": {},
     "nuid": "4da711d0-bb36-475e-8a77-ac196ae0260d",
     "showTitle": false,
     "tableResultSettingsMap": {},
     "title": ""
    }
   },
   "source": [
    "### Total Income Range Table"
   ]
  },
  {
   "cell_type": "code",
   "execution_count": 0,
   "metadata": {
    "application/vnd.databricks.v1+cell": {
     "cellMetadata": {
      "byteLimit": 2048000,
      "rowLimit": 10000
     },
     "inputWidgets": {},
     "nuid": "7ff5939d-f8a1-4035-80c7-9310884bd326",
     "showTitle": false,
     "tableResultSettingsMap": {},
     "title": ""
    }
   },
   "outputs": [],
   "source": [
    "df_total_income_range = spark.read.format(\"csv\").option(\"header\", \"true\").option(\"delimiter\", \";\").load(\"/Volumes/brazilian_tax_big_numbers/source_files/source_files/faixa-de-rendimento-tributavel-bruto-em-salarios-minimos.csv\")\n",
    "\n",
    "display(df_total_income_range)"
   ]
  },
  {
   "cell_type": "code",
   "execution_count": 0,
   "metadata": {
    "application/vnd.databricks.v1+cell": {
     "cellMetadata": {
      "byteLimit": 2048000,
      "rowLimit": 10000
     },
     "inputWidgets": {},
     "nuid": "516a79fa-e3a7-4e88-b40a-a24806ce28a6",
     "showTitle": false,
     "tableResultSettingsMap": {},
     "title": ""
    }
   },
   "outputs": [],
   "source": [
    "df_colunm_qtt = df_colunm_qtt.withColumn(\"total_columns\", df_colunm_qtt.total_columns + len(df_total_income_range.columns))\n",
    "df_colunm_qtt = df_colunm_qtt.withColumn(\"num_columns\", F.lit(len(df_total_income_range.columns)))\n",
    "display(df_colunm_qtt)"
   ]
  },
  {
   "cell_type": "markdown",
   "metadata": {
    "application/vnd.databricks.v1+cell": {
     "cellMetadata": {
      "byteLimit": 2048000,
      "rowLimit": 10000
     },
     "inputWidgets": {},
     "nuid": "ba444b0f-4a93-495e-87e2-4ca7b52fb7ed",
     "showTitle": false,
     "tableResultSettingsMap": {},
     "title": ""
    }
   },
   "source": [
    "### Range of Exclusively Taxed Income in Minimum Wages Table"
   ]
  },
  {
   "cell_type": "code",
   "execution_count": 0,
   "metadata": {
    "application/vnd.databricks.v1+cell": {
     "cellMetadata": {
      "byteLimit": 2048000,
      "rowLimit": 10000
     },
     "inputWidgets": {},
     "nuid": "517024f4-995b-4401-ab1d-84ff9ac78fa2",
     "showTitle": false,
     "tableResultSettingsMap": {},
     "title": ""
    }
   },
   "outputs": [],
   "source": [
    "df_taxable_income_range_exclusive_taxation_on_minimum_wages = spark.read.format(\"csv\").option(\"header\", \"true\").option(\"delimiter\", \";\").load(\"/Volumes/brazilian_tax_big_numbers/source_files/source_files/faixa-de-rendimentos-tributaveis-tributacao-exclusiva-em-salarios-minimos.csv\")\n",
    "\n",
    "display(df_taxable_income_range_exclusive_taxation_on_minimum_wages)"
   ]
  },
  {
   "cell_type": "code",
   "execution_count": 0,
   "metadata": {
    "application/vnd.databricks.v1+cell": {
     "cellMetadata": {
      "byteLimit": 2048000,
      "rowLimit": 10000
     },
     "inputWidgets": {},
     "nuid": "c1936fc2-7cdd-44ed-82d9-6c0d0fc93afb",
     "showTitle": false,
     "tableResultSettingsMap": {},
     "title": ""
    }
   },
   "outputs": [],
   "source": [
    "df_colunm_qtt = df_colunm_qtt.withColumn(\"total_columns\", df_colunm_qtt.total_columns + len(df_taxable_income_range_exclusive_taxation_on_minimum_wages.columns))\n",
    "df_colunm_qtt = df_colunm_qtt.withColumn(\"num_columns\", F.lit(len(df_taxable_income_range_exclusive_taxation_on_minimum_wages.columns)))\n",
    "display(df_colunm_qtt)"
   ]
  },
  {
   "cell_type": "markdown",
   "metadata": {
    "application/vnd.databricks.v1+cell": {
     "cellMetadata": {
      "byteLimit": 2048000,
      "rowLimit": 10000
     },
     "inputWidgets": {},
     "nuid": "dbe5ecdb-abaf-49ff-9705-1619d98ec366",
     "showTitle": false,
     "tableResultSettingsMap": {},
     "title": ""
    }
   },
   "source": [
    "### Range of Gross Taxable Income in Minimum Wages Table"
   ]
  },
  {
   "cell_type": "code",
   "execution_count": 0,
   "metadata": {
    "application/vnd.databricks.v1+cell": {
     "cellMetadata": {
      "byteLimit": 2048000,
      "rowLimit": 10000
     },
     "inputWidgets": {},
     "nuid": "678b07ae-9221-4536-bd07-8cc1414baddb",
     "showTitle": false,
     "tableResultSettingsMap": {},
     "title": ""
    }
   },
   "outputs": [],
   "source": [
    "df_gross_taxable_income_range_in_minimum_wages = spark.read.format(\"csv\").option(\"header\", \"true\").option(\"delimiter\", \";\").load(\"/Volumes/brazilian_tax_big_numbers/source_files/source_files/faixa-de-rendimento-tributavel-bruto-em-salarios-minimos.csv\")\n",
    "\n",
    "display(df_gross_taxable_income_range_in_minimum_wages)"
   ]
  },
  {
   "cell_type": "code",
   "execution_count": 0,
   "metadata": {
    "application/vnd.databricks.v1+cell": {
     "cellMetadata": {
      "byteLimit": 2048000,
      "rowLimit": 10000
     },
     "inputWidgets": {},
     "nuid": "c9bd59f0-da9a-440f-b013-0fe4150da16b",
     "showTitle": false,
     "tableResultSettingsMap": {},
     "title": ""
    }
   },
   "outputs": [],
   "source": [
    "df_colunm_qtt = df_colunm_qtt.withColumn(\"total_columns\", df_colunm_qtt.total_columns + len(df_gross_taxable_income_range_in_minimum_wages.columns))\n",
    "df_colunm_qtt = df_colunm_qtt.withColumn(\"num_columns\", F.lit(len(df_gross_taxable_income_range_in_minimum_wages.columns)))\n",
    "display(df_colunm_qtt)"
   ]
  },
  {
   "cell_type": "markdown",
   "metadata": {
    "application/vnd.databricks.v1+cell": {
     "cellMetadata": {
      "byteLimit": 2048000,
      "rowLimit": 10000
     },
     "inputWidgets": {},
     "nuid": "f1eb4c09-c169-463a-8393-641a6ed1d620",
     "showTitle": false,
     "tableResultSettingsMap": {},
     "title": ""
    }
   },
   "source": [
    "### Gender and Type of Declaration Table"
   ]
  },
  {
   "cell_type": "code",
   "execution_count": 0,
   "metadata": {
    "application/vnd.databricks.v1+cell": {
     "cellMetadata": {
      "byteLimit": 2048000,
      "rowLimit": 10000
     },
     "inputWidgets": {},
     "nuid": "e4672b8f-15da-4113-8949-424693ec08c9",
     "showTitle": false,
     "tableResultSettingsMap": {},
     "title": ""
    }
   },
   "outputs": [],
   "source": [
    "df_gender_and_declaration_type = spark.read.format(\"csv\").option(\"header\", \"true\").option(\"delimiter\", \";\").load(\"/Volumes/brazilian_tax_big_numbers/source_files/source_files/Gênero e Tipo de Declaração.csv\")\n",
    "\n",
    "display(df_gender_and_declaration_type)"
   ]
  },
  {
   "cell_type": "code",
   "execution_count": 0,
   "metadata": {
    "application/vnd.databricks.v1+cell": {
     "cellMetadata": {
      "byteLimit": 2048000,
      "rowLimit": 10000
     },
     "inputWidgets": {},
     "nuid": "c606dc32-fcd5-424c-84b1-2a344f92f0de",
     "showTitle": false,
     "tableResultSettingsMap": {},
     "title": ""
    }
   },
   "outputs": [],
   "source": [
    "df_colunm_qtt = df_colunm_qtt.withColumn(\"total_columns\", df_colunm_qtt.total_columns + len(df_gender_and_declaration_type.columns))\n",
    "df_colunm_qtt = df_colunm_qtt.withColumn(\"num_columns\", F.lit(len(df_gender_and_declaration_type.columns)))\n",
    "display(df_colunm_qtt)"
   ]
  },
  {
   "cell_type": "markdown",
   "metadata": {
    "application/vnd.databricks.v1+cell": {
     "cellMetadata": {
      "byteLimit": 2048000,
      "rowLimit": 10000
     },
     "inputWidgets": {},
     "nuid": "00e25823-929c-46a0-bab1-f476a737344b",
     "showTitle": false,
     "tableResultSettingsMap": {},
     "title": ""
    }
   },
   "source": [
    "### Municipality of Residence of the Declarant Table"
   ]
  },
  {
   "cell_type": "code",
   "execution_count": 0,
   "metadata": {
    "application/vnd.databricks.v1+cell": {
     "cellMetadata": {
      "byteLimit": 2048000,
      "rowLimit": 10000
     },
     "inputWidgets": {},
     "nuid": "120da78e-162c-4fc4-a2b5-70962f424965",
     "showTitle": false,
     "tableResultSettingsMap": {
      "0": {
       "dataGridStateBlob": "{\"version\":1,\"tableState\":{\"columnPinning\":{\"left\":[\"#row_number#\"],\"right\":[]},\"columnSizing\":{\"Ano-Calendário\":156},\"columnVisibility\":{}},\"settings\":{\"columns\":{}},\"syncTimestamp\":1754931725045}",
       "filterBlob": null,
       "queryPlanFiltersBlob": null,
       "tableResultIndex": 0
      }
     },
     "title": ""
    }
   },
   "outputs": [],
   "source": [
    "df_municipality_of_residence = spark.read.format(\"csv\").option(\"header\", \"true\").option(\"delimiter\", \";\").load(\"/Volumes/brazilian_tax_big_numbers/source_files/source_files/Município de Residência do Declarante e Tipo de Formulário.csv\")\n",
    "\n",
    "display(df_municipality_of_residence)"
   ]
  },
  {
   "cell_type": "code",
   "execution_count": 0,
   "metadata": {
    "application/vnd.databricks.v1+cell": {
     "cellMetadata": {
      "byteLimit": 2048000,
      "rowLimit": 10000
     },
     "inputWidgets": {},
     "nuid": "b1acd4fe-ed49-45d5-a13f-6558fa89314a",
     "showTitle": false,
     "tableResultSettingsMap": {},
     "title": ""
    }
   },
   "outputs": [],
   "source": [
    "df_municipality_of_residence.count()"
   ]
  },
  {
   "cell_type": "code",
   "execution_count": 0,
   "metadata": {
    "application/vnd.databricks.v1+cell": {
     "cellMetadata": {
      "byteLimit": 2048000,
      "rowLimit": 10000
     },
     "inputWidgets": {},
     "nuid": "bcd54c50-8ba2-462c-9389-86cd5f235041",
     "showTitle": false,
     "tableResultSettingsMap": {},
     "title": ""
    }
   },
   "outputs": [],
   "source": [
    "display(df_municipality_of_residence.groupBy(\"Ano-Calendário\").agg(F.count(\"*\").alias(\"qtd\")))"
   ]
  },
  {
   "cell_type": "code",
   "execution_count": 0,
   "metadata": {
    "application/vnd.databricks.v1+cell": {
     "cellMetadata": {
      "byteLimit": 2048000,
      "rowLimit": 10000
     },
     "inputWidgets": {},
     "nuid": "fb751c04-5fd9-4c91-ad7a-3c20a3031ebc",
     "showTitle": false,
     "tableResultSettingsMap": {
      "0": {
       "dataGridStateBlob": "{\"version\":1,\"tableState\":{\"columnPinning\":{\"left\":[\"#row_number#\"],\"right\":[]},\"columnSizing\":{},\"columnVisibility\":{}},\"settings\":{\"columns\":{}},\"syncTimestamp\":1754931593661}",
       "filterBlob": null,
       "queryPlanFiltersBlob": null,
       "tableResultIndex": 0
      }
     },
     "title": ""
    }
   },
   "outputs": [],
   "source": [
    "display(df_municipality_of_residence.groupBy(\"Município\").agg(F.count(\"*\").alias(\"qtd\")))"
   ]
  },
  {
   "cell_type": "code",
   "execution_count": 0,
   "metadata": {
    "application/vnd.databricks.v1+cell": {
     "cellMetadata": {
      "byteLimit": 2048000,
      "rowLimit": 10000
     },
     "inputWidgets": {},
     "nuid": "1d185e37-573b-460c-9edd-50d15e34fb08",
     "showTitle": false,
     "tableResultSettingsMap": {},
     "title": ""
    }
   },
   "outputs": [],
   "source": [
    "df_colunm_qtt = df_colunm_qtt.withColumn(\"total_columns\", df_colunm_qtt.total_columns + len(df_municipality_of_residence.columns))\n",
    "df_colunm_qtt = df_colunm_qtt.withColumn(\"num_columns\", F.lit(len(df_municipality_of_residence.columns)))\n",
    "display(df_colunm_qtt)"
   ]
  },
  {
   "cell_type": "markdown",
   "metadata": {
    "application/vnd.databricks.v1+cell": {
     "cellMetadata": {
      "byteLimit": 2048000,
      "rowLimit": 10000
     },
     "inputWidgets": {},
     "nuid": "bb04e582-827d-4fbb-b815-9d80f5d48825",
     "showTitle": false,
     "tableResultSettingsMap": {},
     "title": ""
    }
   },
   "source": [
    "### Nature of Occupation Table"
   ]
  },
  {
   "cell_type": "code",
   "execution_count": 0,
   "metadata": {
    "application/vnd.databricks.v1+cell": {
     "cellMetadata": {
      "byteLimit": 2048000,
      "rowLimit": 10000
     },
     "inputWidgets": {},
     "nuid": "6edb2ad4-6398-4c68-a24e-a1525260e2ff",
     "showTitle": false,
     "tableResultSettingsMap": {
      "0": {
       "dataGridStateBlob": "{\"version\":1,\"tableState\":{\"columnPinning\":{\"left\":[\"#row_number#\"],\"right\":[]},\"columnSizing\":{},\"columnVisibility\":{}},\"settings\":{\"columns\":{}},\"syncTimestamp\":1754931848788}",
       "filterBlob": null,
       "queryPlanFiltersBlob": null,
       "tableResultIndex": 0
      }
     },
     "title": ""
    }
   },
   "outputs": [],
   "source": [
    "df_nature_of_occupation = spark.read.format(\"csv\").option(\"header\", \"true\").option(\"delimiter\", \";\").load(\"/Volumes/brazilian_tax_big_numbers/source_files/source_files/Natureza de Ocupação.csv\")\n",
    "\n",
    "display(df_nature_of_occupation)"
   ]
  },
  {
   "cell_type": "code",
   "execution_count": 0,
   "metadata": {
    "application/vnd.databricks.v1+cell": {
     "cellMetadata": {
      "byteLimit": 2048000,
      "rowLimit": 10000
     },
     "inputWidgets": {},
     "nuid": "cdca19cc-f8f0-45c9-b5e8-adc5f2e54da5",
     "showTitle": false,
     "tableResultSettingsMap": {
      "0": {
       "dataGridStateBlob": "{\"version\":1,\"tableState\":{\"columnPinning\":{\"left\":[\"#row_number#\"],\"right\":[]},\"columnSizing\":{},\"columnVisibility\":{}},\"settings\":{\"columns\":{}},\"syncTimestamp\":1754931949778}",
       "filterBlob": null,
       "queryPlanFiltersBlob": null,
       "tableResultIndex": 0
      }
     },
     "title": ""
    }
   },
   "outputs": [],
   "source": [
    "display(df_nature_of_occupation.groupBy(\"Ano-Calendário\").agg(F.count(\"*\").alias(\"qtd\")))"
   ]
  },
  {
   "cell_type": "code",
   "execution_count": 0,
   "metadata": {
    "application/vnd.databricks.v1+cell": {
     "cellMetadata": {
      "byteLimit": 2048000,
      "rowLimit": 10000
     },
     "inputWidgets": {},
     "nuid": "3a3e807c-66df-4e0b-98c3-ec89e9d9c6d0",
     "showTitle": false,
     "tableResultSettingsMap": {},
     "title": ""
    }
   },
   "outputs": [],
   "source": [
    "df_colunm_qtt = df_colunm_qtt.withColumn(\"total_columns\", df_colunm_qtt.total_columns + len(df_nature_of_occupation.columns))\n",
    "df_colunm_qtt = df_colunm_qtt.withColumn(\"num_columns\", F.lit(len(df_nature_of_occupation.columns)))\n",
    "display(df_colunm_qtt)"
   ]
  },
  {
   "cell_type": "markdown",
   "metadata": {
    "application/vnd.databricks.v1+cell": {
     "cellMetadata": {
      "byteLimit": 2048000,
      "rowLimit": 10000
     },
     "inputWidgets": {},
     "nuid": "1a315769-5ebb-4232-bcc3-aa0fb8ff8e0c",
     "showTitle": false,
     "tableResultSettingsMap": {},
     "title": ""
    }
   },
   "source": [
    "### Main Occupation of the Declarant Table"
   ]
  },
  {
   "cell_type": "code",
   "execution_count": 0,
   "metadata": {
    "application/vnd.databricks.v1+cell": {
     "cellMetadata": {
      "byteLimit": 2048000,
      "rowLimit": 10000
     },
     "inputWidgets": {},
     "nuid": "f3f3ace7-f257-4a5c-8fef-7d8ab0f27527",
     "showTitle": false,
     "tableResultSettingsMap": {},
     "title": ""
    }
   },
   "outputs": [],
   "source": [
    "df_main_occupation = spark.read.format(\"csv\").option(\"header\", \"true\").option(\"delimiter\", \";\").load(\"/Volumes/brazilian_tax_big_numbers/source_files/source_files/Ocupação Principal do Declarante.csv\")\n",
    "\n",
    "display(df_main_occupation)"
   ]
  },
  {
   "cell_type": "code",
   "execution_count": 0,
   "metadata": {
    "application/vnd.databricks.v1+cell": {
     "cellMetadata": {
      "byteLimit": 2048000,
      "rowLimit": 10000
     },
     "inputWidgets": {},
     "nuid": "8e341d29-3282-4318-b864-405fc26bc2c4",
     "showTitle": false,
     "tableResultSettingsMap": {
      "0": {
       "dataGridStateBlob": "{\"version\":1,\"tableState\":{\"columnPinning\":{\"left\":[\"#row_number#\"],\"right\":[]},\"columnSizing\":{},\"columnVisibility\":{}},\"settings\":{\"columns\":{}},\"syncTimestamp\":1754932134318}",
       "filterBlob": null,
       "queryPlanFiltersBlob": null,
       "tableResultIndex": 0
      }
     },
     "title": ""
    }
   },
   "outputs": [],
   "source": [
    "display(df_main_occupation.groupBy(\"Ano-Calendário\").agg(F.count(\"*\").alias(\"qtd\")))"
   ]
  },
  {
   "cell_type": "code",
   "execution_count": 0,
   "metadata": {
    "application/vnd.databricks.v1+cell": {
     "cellMetadata": {
      "byteLimit": 2048000,
      "rowLimit": 10000
     },
     "inputWidgets": {},
     "nuid": "d0a16d4f-5d4d-42d2-9a34-b5a3abb296dd",
     "showTitle": false,
     "tableResultSettingsMap": {},
     "title": ""
    }
   },
   "outputs": [],
   "source": [
    "display(spark.createDataFrame([(len(df_main_occupation.columns),)], [\"num_columns\"]))"
   ]
  },
  {
   "cell_type": "code",
   "execution_count": 0,
   "metadata": {
    "application/vnd.databricks.v1+cell": {
     "cellMetadata": {
      "byteLimit": 2048000,
      "rowLimit": 10000
     },
     "inputWidgets": {},
     "nuid": "b87b882e-02a7-4089-b5ca-9e93d961bb6a",
     "showTitle": false,
     "tableResultSettingsMap": {},
     "title": ""
    }
   },
   "outputs": [],
   "source": [
    "df_colunm_qtt = df_colunm_qtt.withColumn(\"total_columns\", df_colunm_qtt.total_columns + len(df_main_occupation.columns))\n",
    "df_colunm_qtt = df_colunm_qtt.withColumn(\"num_columns\", F.lit(len(df_main_occupation.columns)))\n",
    "display(df_colunm_qtt)"
   ]
  },
  {
   "cell_type": "markdown",
   "metadata": {
    "application/vnd.databricks.v1+cell": {
     "cellMetadata": {
      "byteLimit": 2048000,
      "rowLimit": 10000
     },
     "inputWidgets": {},
     "nuid": "5e5527e0-60c7-44bc-8f35-0521dca67d7a",
     "showTitle": false,
     "tableResultSettingsMap": {},
     "title": ""
    }
   },
   "source": [
    "### Payments and Donations Table"
   ]
  },
  {
   "cell_type": "code",
   "execution_count": 0,
   "metadata": {
    "application/vnd.databricks.v1+cell": {
     "cellMetadata": {
      "byteLimit": 2048000,
      "rowLimit": 10000
     },
     "inputWidgets": {},
     "nuid": "194f78b8-a21e-459b-893f-a8a668c39150",
     "showTitle": false,
     "tableResultSettingsMap": {
      "0": {
       "dataGridStateBlob": "{\"version\":1,\"tableState\":{\"columnPinning\":{\"left\":[\"#row_number#\"],\"right\":[]},\"columnSizing\":{},\"columnVisibility\":{}},\"settings\":{\"columns\":{}},\"syncTimestamp\":1754934445865}",
       "filterBlob": null,
       "queryPlanFiltersBlob": null,
       "tableResultIndex": 0
      }
     },
     "title": ""
    }
   },
   "outputs": [],
   "source": [
    "df_payments_and_donations = spark.read.format(\"csv\").option(\"header\", \"true\").option(\"delimiter\", \";\").load(\"/Volumes/brazilian_tax_big_numbers/source_files/source_files/Pagamentos e Doações.csv\")\n",
    "\n",
    "display(df_payments_and_donations)"
   ]
  },
  {
   "cell_type": "code",
   "execution_count": 0,
   "metadata": {
    "application/vnd.databricks.v1+cell": {
     "cellMetadata": {
      "byteLimit": 2048000,
      "rowLimit": 10000
     },
     "inputWidgets": {},
     "nuid": "49e42c4c-d9db-4361-a1f8-d246d4543e3b",
     "showTitle": false,
     "tableResultSettingsMap": {},
     "title": ""
    }
   },
   "outputs": [],
   "source": [
    "df_colunm_qtt = df_colunm_qtt.withColumn(\"total_columns\", df_colunm_qtt.total_columns + len(df_payments_and_donations.columns))\n",
    "df_colunm_qtt = df_colunm_qtt.withColumn(\"num_columns\", F.lit(len(df_payments_and_donations.columns)))\n",
    "display(df_colunm_qtt)"
   ]
  },
  {
   "cell_type": "markdown",
   "metadata": {
    "application/vnd.databricks.v1+cell": {
     "cellMetadata": {
      "byteLimit": 2048000,
      "rowLimit": 10000
     },
     "inputWidgets": {},
     "nuid": "1221a8b4-0199-4dc4-bfad-11e44e5ad069",
     "showTitle": false,
     "tableResultSettingsMap": {},
     "title": ""
    }
   },
   "source": [
    "### Recipients of Profits and Dividends + Income of Partner and Microenterprise Owner by Total Income Range (in minimum wages) Table"
   ]
  },
  {
   "cell_type": "code",
   "execution_count": 0,
   "metadata": {
    "application/vnd.databricks.v1+cell": {
     "cellMetadata": {
      "byteLimit": 2048000,
      "rowLimit": 10000
     },
     "inputWidgets": {},
     "nuid": "de86dea2-9773-4609-a9ef-2fd908dbeccd",
     "showTitle": false,
     "tableResultSettingsMap": {},
     "title": ""
    }
   },
   "outputs": [],
   "source": [
    "df_profit_dividend_recipients_and_partner_owner_income_by_total_income_range_in_minimum_wages = spark.read.format(\"csv\").option(\"header\", \"true\").option(\"delimiter\", \";\").load(\"/Volumes/brazilian_tax_big_numbers/source_files/source_files/Recebedores de Lucros e Dividendos + Rend.Sócio e Titular Microempresa por Faixa de Rendimento Total (em salários-mínimos).csv\")\n",
    "\n",
    "display(df_profit_dividend_recipients_and_partner_owner_income_by_total_income_range_in_minimum_wages)"
   ]
  },
  {
   "cell_type": "code",
   "execution_count": 0,
   "metadata": {
    "application/vnd.databricks.v1+cell": {
     "cellMetadata": {
      "byteLimit": 2048000,
      "rowLimit": 10000
     },
     "inputWidgets": {},
     "nuid": "bb66311d-c5a5-42c5-9abf-4ed78b98edb6",
     "showTitle": false,
     "tableResultSettingsMap": {},
     "title": ""
    }
   },
   "outputs": [],
   "source": [
    "df_colunm_qtt = df_colunm_qtt.withColumn(\"total_columns\", df_colunm_qtt.total_columns + len(df_profit_dividend_recipients_and_partner_owner_income_by_total_income_range_in_minimum_wages.columns))\n",
    "df_colunm_qtt = df_colunm_qtt.withColumn(\"num_columns\", F.lit(len(df_profit_dividend_recipients_and_partner_owner_income_by_total_income_range_in_minimum_wages.columns)))\n",
    "display(df_colunm_qtt)"
   ]
  },
  {
   "cell_type": "markdown",
   "metadata": {
    "application/vnd.databricks.v1+cell": {
     "cellMetadata": {
      "byteLimit": 2048000,
      "rowLimit": 10000
     },
     "inputWidgets": {},
     "nuid": "13248ec3-5fb8-4ede-a8d7-f755a374cadb",
     "showTitle": false,
     "tableResultSettingsMap": {},
     "title": ""
    }
   },
   "source": [
    "### Recipients of Profits and Dividends + Partner and Microenterprise Owner Income by Main Occupation Table"
   ]
  },
  {
   "cell_type": "code",
   "execution_count": 0,
   "metadata": {
    "application/vnd.databricks.v1+cell": {
     "cellMetadata": {
      "byteLimit": 2048000,
      "rowLimit": 10000
     },
     "inputWidgets": {},
     "nuid": "12c0a00f-ac4b-434c-9f70-65b115cf37d3",
     "showTitle": false,
     "tableResultSettingsMap": {},
     "title": ""
    }
   },
   "outputs": [],
   "source": [
    "df_profit_dividend_recipients_and_partner_owner_income_by_main_occupation = spark.read.format(\"csv\").option(\"header\", \"true\").option(\"delimiter\", \";\").load(\"/Volumes/brazilian_tax_big_numbers/source_files/source_files/Recebedores de Lucros e Dividendos + Rend.Sócio e Titular Microempresa por Ocupação Principal.csv\")\n",
    "\n",
    "display(df_profit_dividend_recipients_and_partner_owner_income_by_main_occupation)"
   ]
  },
  {
   "cell_type": "code",
   "execution_count": 0,
   "metadata": {
    "application/vnd.databricks.v1+cell": {
     "cellMetadata": {
      "byteLimit": 2048000,
      "rowLimit": 10000
     },
     "inputWidgets": {},
     "nuid": "80f8f3be-6e75-449a-84d0-740887dcaf88",
     "showTitle": false,
     "tableResultSettingsMap": {
      "0": {
       "dataGridStateBlob": "{\"version\":1,\"tableState\":{\"columnPinning\":{\"left\":[\"#row_number#\"],\"right\":[]},\"columnSizing\":{},\"columnVisibility\":{}},\"settings\":{\"columns\":{}},\"syncTimestamp\":1754936456869}",
       "filterBlob": null,
       "queryPlanFiltersBlob": null,
       "tableResultIndex": 0
      }
     },
     "title": ""
    }
   },
   "outputs": [],
   "source": [
    "display(df_profit_dividend_recipients_and_partner_owner_income_by_main_occupation.groupBy(\"Ocupação Principal do Declarante\").agg(F.count(\"*\").alias(\"qtd\")))"
   ]
  },
  {
   "cell_type": "code",
   "execution_count": 0,
   "metadata": {
    "application/vnd.databricks.v1+cell": {
     "cellMetadata": {
      "byteLimit": 2048000,
      "rowLimit": 10000
     },
     "inputWidgets": {},
     "nuid": "eeb9cad7-25f5-49b4-af30-25e8581d4d4a",
     "showTitle": false,
     "tableResultSettingsMap": {},
     "title": ""
    }
   },
   "outputs": [],
   "source": [
    "df_colunm_qtt = df_colunm_qtt.withColumn(\"total_columns\", df_colunm_qtt.total_columns + len(df_profit_dividend_recipients_and_partner_owner_income_by_main_occupation.columns))\n",
    "df_colunm_qtt = df_colunm_qtt.withColumn(\"num_columns\", F.lit(len(df_profit_dividend_recipients_and_partner_owner_income_by_main_occupation.columns)))\n",
    "display(df_colunm_qtt)"
   ]
  },
  {
   "cell_type": "markdown",
   "metadata": {
    "application/vnd.databricks.v1+cell": {
     "cellMetadata": {
      "byteLimit": 2048000,
      "rowLimit": 10000
     },
     "inputWidgets": {},
     "nuid": "66eafce3-9512-475d-8d48-b1b5dde38b81",
     "showTitle": false,
     "tableResultSettingsMap": {},
     "title": ""
    }
   },
   "source": [
    "### Income Subject to Exclusive/Definitive Taxation Table"
   ]
  },
  {
   "cell_type": "code",
   "execution_count": 0,
   "metadata": {
    "application/vnd.databricks.v1+cell": {
     "cellMetadata": {
      "byteLimit": 2048000,
      "rowLimit": 10000
     },
     "inputWidgets": {},
     "nuid": "b3a18ee5-6cca-4842-b831-afce5aec853b",
     "showTitle": false,
     "tableResultSettingsMap": {},
     "title": ""
    }
   },
   "outputs": [],
   "source": [
    "df_income_subject_to_exclusive_definitive_taxation = spark.read.format(\"csv\").option(\"header\", \"true\").option(\"delimiter\", \";\").load(\"/Volumes/brazilian_tax_big_numbers/source_files/source_files/Rendimentos Sujeitos à Tributação Exclusiva_Definitiva.csv\")\n",
    "\n",
    "display(df_income_subject_to_exclusive_definitive_taxation)"
   ]
  },
  {
   "cell_type": "code",
   "execution_count": 0,
   "metadata": {
    "application/vnd.databricks.v1+cell": {
     "cellMetadata": {
      "byteLimit": 2048000,
      "rowLimit": 10000
     },
     "inputWidgets": {},
     "nuid": "12f1909b-7b39-4532-b0a2-26981e41bf54",
     "showTitle": false,
     "tableResultSettingsMap": {},
     "title": ""
    }
   },
   "outputs": [],
   "source": [
    "df_colunm_qtt = df_colunm_qtt.withColumn(\"total_columns\", df_colunm_qtt.total_columns + len(df_income_subject_to_exclusive_definitive_taxation.columns))\n",
    "df_colunm_qtt = df_colunm_qtt.withColumn(\"num_columns\", F.lit(len(df_income_subject_to_exclusive_definitive_taxation.columns)))\n",
    "display(df_colunm_qtt)"
   ]
  },
  {
   "cell_type": "markdown",
   "metadata": {
    "application/vnd.databricks.v1+cell": {
     "cellMetadata": {
      "byteLimit": 2048000,
      "rowLimit": 10000
     },
     "inputWidgets": {},
     "nuid": "94d873e7-96b9-4b09-806c-6a38fc70ccdd",
     "showTitle": false,
     "tableResultSettingsMap": {},
     "title": ""
    }
   },
   "source": [
    "### Taxable Income by Minimum Wage Range Table"
   ]
  },
  {
   "cell_type": "code",
   "execution_count": 0,
   "metadata": {
    "application/vnd.databricks.v1+cell": {
     "cellMetadata": {
      "byteLimit": 2048000,
      "rowLimit": 10000
     },
     "inputWidgets": {},
     "nuid": "f4340d5f-827a-4f71-af34-db238a3431ac",
     "showTitle": false,
     "tableResultSettingsMap": {},
     "title": ""
    }
   },
   "outputs": [],
   "source": [
    "df_taxable_income_by_minimum_wage_range = spark.read.format(\"csv\").option(\"header\", \"true\").option(\"delimiter\", \";\").load(\"/Volumes/brazilian_tax_big_numbers/source_files/source_files/Rendimentos Tributáveis por Faixa de Salários-Mínimos.csv\")\n",
    "\n",
    "display(df_taxable_income_by_minimum_wage_range)"
   ]
  },
  {
   "cell_type": "code",
   "execution_count": 0,
   "metadata": {
    "application/vnd.databricks.v1+cell": {
     "cellMetadata": {
      "byteLimit": 2048000,
      "rowLimit": 10000
     },
     "inputWidgets": {},
     "nuid": "2e5dd86c-f1bd-4339-928a-6c30da371104",
     "showTitle": false,
     "tableResultSettingsMap": {},
     "title": ""
    }
   },
   "outputs": [],
   "source": [
    "df_colunm_qtt = df_colunm_qtt.withColumn(\"total_columns\", df_colunm_qtt.total_columns + len(df_taxable_income_by_minimum_wage_range.columns))\n",
    "df_colunm_qtt = df_colunm_qtt.withColumn(\"num_columns\", F.lit(len(df_taxable_income_by_minimum_wage_range.columns)))\n",
    "display(df_colunm_qtt)"
   ]
  },
  {
   "cell_type": "markdown",
   "metadata": {
    "application/vnd.databricks.v1+cell": {
     "cellMetadata": {
      "byteLimit": 2048000,
      "rowLimit": 10000
     },
     "inputWidgets": {},
     "nuid": "dd0549cf-19be-4d0e-a5ac-bd4eaacd95d7",
     "showTitle": false,
     "tableResultSettingsMap": {},
     "title": ""
    }
   },
   "source": [
    "### Exempt and Non-Taxable Income Table"
   ]
  },
  {
   "cell_type": "code",
   "execution_count": 0,
   "metadata": {
    "application/vnd.databricks.v1+cell": {
     "cellMetadata": {
      "byteLimit": 2048000,
      "rowLimit": 10000
     },
     "inputWidgets": {},
     "nuid": "bf99ea24-582b-407e-bb00-85f9f82f775b",
     "showTitle": false,
     "tableResultSettingsMap": {},
     "title": ""
    }
   },
   "outputs": [],
   "source": [
    "df_tax_exempt_and_non_taxable_income = spark.read.format(\"csv\").option(\"header\", \"true\").option(\"delimiter\", \";\").load(\"/Volumes/brazilian_tax_big_numbers/source_files/source_files/rendimentos-isentos-e-nao-tributaveis.csv\")\n",
    "\n",
    "display(df_tax_exempt_and_non_taxable_income)"
   ]
  },
  {
   "cell_type": "code",
   "execution_count": 0,
   "metadata": {
    "application/vnd.databricks.v1+cell": {
     "cellMetadata": {
      "byteLimit": 2048000,
      "rowLimit": 10000
     },
     "inputWidgets": {},
     "nuid": "99a5b5c2-d4fb-40ac-97bf-6711c27f6326",
     "showTitle": false,
     "tableResultSettingsMap": {},
     "title": ""
    }
   },
   "outputs": [],
   "source": [
    "df_colunm_qtt = df_colunm_qtt.withColumn(\"total_columns\", df_colunm_qtt.total_columns + len(df_tax_exempt_and_non_taxable_income.columns))\n",
    "df_colunm_qtt = df_colunm_qtt.withColumn(\"num_columns\", F.lit(len(df_tax_exempt_and_non_taxable_income.columns)))\n",
    "display(df_colunm_qtt)"
   ]
  },
  {
   "cell_type": "markdown",
   "metadata": {
    "application/vnd.databricks.v1+cell": {
     "cellMetadata": {
      "byteLimit": 2048000,
      "rowLimit": 10000
     },
     "inputWidgets": {},
     "nuid": "c0236816-a713-4152-9e92-8a2224b9db20",
     "showTitle": false,
     "tableResultSettingsMap": {},
     "title": ""
    }
   },
   "source": [
    "### Tax Status Table"
   ]
  },
  {
   "cell_type": "code",
   "execution_count": 0,
   "metadata": {
    "application/vnd.databricks.v1+cell": {
     "cellMetadata": {
      "byteLimit": 2048000,
      "rowLimit": 10000
     },
     "inputWidgets": {},
     "nuid": "103e2141-499a-431f-afaa-256f365ea0f6",
     "showTitle": false,
     "tableResultSettingsMap": {},
     "title": ""
    }
   },
   "outputs": [],
   "source": [
    "df_tax_status = spark.read.format(\"csv\").option(\"header\", \"true\").option(\"delimiter\", \";\").load(\"/Volumes/brazilian_tax_big_numbers/source_files/source_files/Situação Fiscal.csv\")\n",
    "\n",
    "display(df_tax_status)"
   ]
  },
  {
   "cell_type": "code",
   "execution_count": 0,
   "metadata": {
    "application/vnd.databricks.v1+cell": {
     "cellMetadata": {
      "byteLimit": 2048000,
      "rowLimit": 10000
     },
     "inputWidgets": {},
     "nuid": "d1f5bcbd-7bd2-407a-886d-86c59c588c75",
     "showTitle": false,
     "tableResultSettingsMap": {},
     "title": ""
    }
   },
   "outputs": [],
   "source": [
    "df_colunm_qtt = df_colunm_qtt.withColumn(\"total_columns\", df_colunm_qtt.total_columns + len(df_tax_status.columns))\n",
    "df_colunm_qtt = df_colunm_qtt.withColumn(\"num_columns\", F.lit(len(df_tax_status.columns)))\n",
    "display(df_colunm_qtt)"
   ]
  },
  {
   "cell_type": "markdown",
   "metadata": {
    "application/vnd.databricks.v1+cell": {
     "cellMetadata": {
      "byteLimit": 2048000,
      "rowLimit": 10000
     },
     "inputWidgets": {},
     "nuid": "382ffb3a-ecc5-4df0-93e0-8452dcbdcaa3",
     "showTitle": false,
     "tableResultSettingsMap": {},
     "title": ""
    }
   },
   "source": [
    "### Type of Form Table"
   ]
  },
  {
   "cell_type": "code",
   "execution_count": 0,
   "metadata": {
    "application/vnd.databricks.v1+cell": {
     "cellMetadata": {
      "byteLimit": 2048000,
      "rowLimit": 10000
     },
     "inputWidgets": {},
     "nuid": "4dd7e0b4-89bd-47ba-bbbd-661bcbe6a74d",
     "showTitle": false,
     "tableResultSettingsMap": {},
     "title": ""
    }
   },
   "outputs": [],
   "source": [
    "df_form_type = spark.read.format(\"csv\").option(\"header\", \"true\").option(\"delimiter\", \";\").load(\"/Volumes/brazilian_tax_big_numbers/source_files/source_files/Tipo de Formulário.csv\")\n",
    "\n",
    "display(df_form_type)"
   ]
  },
  {
   "cell_type": "code",
   "execution_count": 0,
   "metadata": {
    "application/vnd.databricks.v1+cell": {
     "cellMetadata": {
      "byteLimit": 2048000,
      "rowLimit": 10000
     },
     "inputWidgets": {},
     "nuid": "7aacf19e-5755-46e0-ae95-60be4fb2eb88",
     "showTitle": false,
     "tableResultSettingsMap": {},
     "title": ""
    }
   },
   "outputs": [],
   "source": [
    "df_colunm_qtt = df_colunm_qtt.withColumn(\"total_columns\", df_colunm_qtt.total_columns + len(df_form_type.columns))\n",
    "df_colunm_qtt = df_colunm_qtt.withColumn(\"num_columns\", F.lit(len(df_form_type.columns)))\n",
    "display(df_colunm_qtt)"
   ]
  }
 ],
 "metadata": {
  "application/vnd.databricks.v1+notebook": {
   "computePreferences": null,
   "dashboards": [],
   "environmentMetadata": {
    "base_environment": "",
    "environment_version": "2"
   },
   "inputWidgetPreferences": null,
   "language": "python",
   "notebookMetadata": {
    "pythonIndentUnit": 4
   },
   "notebookName": "source_files_data_basic_exploration",
   "widgets": {}
  },
  "language_info": {
   "name": "python"
  }
 },
 "nbformat": 4,
 "nbformat_minor": 0
}
