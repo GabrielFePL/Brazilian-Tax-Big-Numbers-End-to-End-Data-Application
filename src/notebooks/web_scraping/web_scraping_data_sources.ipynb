{
 "cells": [
  {
   "cell_type": "markdown",
   "metadata": {
    "application/vnd.databricks.v1+cell": {
     "cellMetadata": {
      "byteLimit": 2048000,
      "rowLimit": 10000
     },
     "inputWidgets": {},
     "nuid": "fe1d77bf-9afe-4c59-97e5-040029bbe858",
     "showTitle": false,
     "tableResultSettingsMap": {},
     "title": ""
    }
   },
   "source": [
    "# Web Scraping for Download Data Sources"
   ]
  },
  {
   "cell_type": "markdown",
   "metadata": {
    "application/vnd.databricks.v1+cell": {
     "cellMetadata": {
      "byteLimit": 2048000,
      "rowLimit": 10000
     },
     "inputWidgets": {},
     "nuid": "3a34afc1-ffc1-4438-bfa2-a8b93d9eef77",
     "showTitle": false,
     "tableResultSettingsMap": {},
     "title": ""
    }
   },
   "source": [
    "## Environment Setup"
   ]
  },
  {
   "cell_type": "code",
   "execution_count": 0,
   "metadata": {
    "application/vnd.databricks.v1+cell": {
     "cellMetadata": {
      "byteLimit": 2048000,
      "rowLimit": 10000
     },
     "inputWidgets": {},
     "nuid": "f3731ef5-0fa3-498b-b665-7842505055ca",
     "showTitle": false,
     "tableResultSettingsMap": {},
     "title": ""
    }
   },
   "outputs": [],
   "source": [
    "%pip install playwright\n",
    "!playwright install\n",
    "!playwright install-deps"
   ]
  },
  {
   "cell_type": "code",
   "execution_count": 0,
   "metadata": {
    "application/vnd.databricks.v1+cell": {
     "cellMetadata": {
      "byteLimit": 2048000,
      "rowLimit": 10000
     },
     "inputWidgets": {},
     "nuid": "ff6db1ee-f48f-47d7-9078-1571d2af3543",
     "showTitle": false,
     "tableResultSettingsMap": {},
     "title": ""
    }
   },
   "outputs": [],
   "source": [
    "%restart_python"
   ]
  },
  {
   "cell_type": "code",
   "execution_count": 0,
   "metadata": {
    "application/vnd.databricks.v1+cell": {
     "cellMetadata": {
      "byteLimit": 2048000,
      "rowLimit": 10000
     },
     "inputWidgets": {},
     "nuid": "764e37d8-c0d3-408a-ba60-840f9e10af04",
     "showTitle": false,
     "tableResultSettingsMap": {},
     "title": ""
    }
   },
   "outputs": [],
   "source": [
    "from playwright.async_api import async_playwright\n",
    "import asyncio\n",
    "import unicodedata\n",
    "import re\n",
    "import requests"
   ]
  },
  {
   "cell_type": "markdown",
   "metadata": {
    "application/vnd.databricks.v1+cell": {
     "cellMetadata": {
      "byteLimit": 2048000,
      "rowLimit": 10000
     },
     "inputWidgets": {},
     "nuid": "b3a251a1-8931-4e6d-a8d4-b000c6624bdb",
     "showTitle": false,
     "tableResultSettingsMap": {},
     "title": ""
    }
   },
   "source": [
    "## Web Scraping Script"
   ]
  },
  {
   "cell_type": "code",
   "execution_count": 0,
   "metadata": {
    "application/vnd.databricks.v1+cell": {
     "cellMetadata": {
      "byteLimit": 2048000,
      "rowLimit": 10000
     },
     "inputWidgets": {},
     "nuid": "d855e26b-b2e9-462d-910f-e15aad5dc4b6",
     "showTitle": false,
     "tableResultSettingsMap": {},
     "title": ""
    }
   },
   "outputs": [],
   "source": [
    "async def fetch_file_names_and_download():\n",
    "    async with async_playwright() as p:\n",
    "        browser = await p.chromium.launch(headless=True)\n",
    "        page = await browser.new_page()\n",
    "        await page.goto(\"https://dados.gov.br/dados/conjuntos-dados/grandes-nmeros-do-imposto-de-renda-da-pessoa-fsica\")\n",
    "        await asyncio.sleep(10)\n",
    "        rows = await page.query_selector_all(\"div.row.flex.mb-5\")\n",
    "        file_names = []\n",
    "        for row in rows:\n",
    "            span = await row.query_selector('span.resource-icon-left')\n",
    "            if span:\n",
    "                span_text = await span.inner_text()\n",
    "                if span_text.strip() == \"CSV\":\n",
    "                    h4 = await row.query_selector(\"h4\")\n",
    "                    if h4:\n",
    "                        text = await h4.inner_text()\n",
    "                        if \"Faixa de Rendimento\" in text:\n",
    "                            text = f\"{text}-em-salarios-minimos\"    \n",
    "                        else:\n",
    "                            text = f\"{text}\"\n",
    "                        file_names.append(text)\n",
    "        await browser.close()\n",
    "    return file_names"
   ]
  },
  {
   "cell_type": "code",
   "execution_count": 0,
   "metadata": {
    "application/vnd.databricks.v1+cell": {
     "cellMetadata": {
      "byteLimit": 2048000,
      "rowLimit": 10000
     },
     "inputWidgets": {},
     "nuid": "814501a8-9a20-487a-9ed4-931ffc843970",
     "showTitle": false,
     "tableResultSettingsMap": {},
     "title": ""
    }
   },
   "outputs": [],
   "source": [
    "file_names = await fetch_file_names_and_download()"
   ]
  },
  {
   "cell_type": "markdown",
   "metadata": {
    "application/vnd.databricks.v1+cell": {
     "cellMetadata": {
      "byteLimit": 2048000,
      "rowLimit": 10000
     },
     "inputWidgets": {},
     "nuid": "fca3088e-51fd-4b43-b0c4-631e27bef77a",
     "showTitle": false,
     "tableResultSettingsMap": {},
     "title": ""
    }
   },
   "source": [
    "## Data Sources' Download URL Formating"
   ]
  },
  {
   "cell_type": "code",
   "execution_count": 0,
   "metadata": {
    "application/vnd.databricks.v1+cell": {
     "cellMetadata": {
      "byteLimit": 2048000,
      "rowLimit": 10000
     },
     "inputWidgets": {},
     "nuid": "54c3128f-c1cb-45db-883d-393140ac885f",
     "showTitle": false,
     "tableResultSettingsMap": {},
     "title": ""
    }
   },
   "outputs": [],
   "source": [
    "def normalize_filename(name):\n",
    "    name = name.lower()\n",
    "    name = name.replace(' ', '-')\n",
    "    name = name.replace('ç', 'c')\n",
    "    name = unicodedata.normalize('NFKD', name).encode('ASCII', 'ignore').decode('utf-8')\n",
    "    name = re.sub(r'[^a-zA-Z0-9\\-:/]', '-', name)\n",
    "    if (name == \"rendimentos-sujeitos-a-tributacao-exclusiva-definitiva\"):\n",
    "        name = \"rendimentos-sujeitos-a-tributacao-exclusiva_definitiva\"\n",
    "    if (name == \"faixa-de-rendimentos-totais-em-salarios-minimos\"):\n",
    "        name = \"faixa-de-rendimentos-totais\"\n",
    "    if (name == \"recebedores-de-lucros-e-dividendos-rend-socio-e-titular-microempresa-por-faixa-de-rendimento-total-em-salarios-minimos\"):\n",
    "        name = \"recebedores-de-lucros-e-dividendos-rend-socio-e-titular-microempresa-por-faixa-de-rendimento-total\"\n",
    "    if (name == \"recebedores-de-lucros-e-dividendos-rend-socio-e-titular-microempresa-por-faixa-de-rendimento-total-em-salarios-minimos.csv\"):\n",
    "        name = \"recebedores-de-lucros-e-dividendos-rend-socio-e-titular-microempresa-por-faixa-de-rendimento-total.csv\"\n",
    "    return name\n",
    "\n",
    "file_names = [n.replace('.csv', '') for n in file_names]\n",
    "file_names = [normalize_filename(n) for n in file_names]\n",
    "file_names = [n.replace('--', '') for n in file_names]"
   ]
  },
  {
   "cell_type": "markdown",
   "metadata": {
    "application/vnd.databricks.v1+cell": {
     "cellMetadata": {
      "byteLimit": 2048000,
      "rowLimit": 10000
     },
     "inputWidgets": {},
     "nuid": "1a1b6cc7-50aa-40cd-8e8d-d95fc4ef6970",
     "showTitle": false,
     "tableResultSettingsMap": {},
     "title": ""
    }
   },
   "source": [
    "## Downloading Data Sources and Saving in Unity Catalog"
   ]
  },
  {
   "cell_type": "code",
   "execution_count": 0,
   "metadata": {
    "application/vnd.databricks.v1+cell": {
     "cellMetadata": {
      "byteLimit": 2048000,
      "rowLimit": 10000
     },
     "inputWidgets": {},
     "nuid": "fb1aa2cf-84df-402a-8ac9-8b5b4a237c8c",
     "showTitle": false,
     "tableResultSettingsMap": {},
     "title": ""
    }
   },
   "outputs": [],
   "source": [
    "for file_name in file_names:\n",
    "    url = \"https://www.gov.br/receitafederal/dados/\" + file_name + \".csv\"\n",
    "    response = requests.get(url, verify=False)\n",
    "    response.raise_for_status()\n",
    "    with open(f\"/Volumes/brazilian_tax_big_numbers/data_sources/data_sources/{file_name}.csv\", \"wb\") as f:\n",
    "        f.write(response.content)"
   ]
  }
 ],
 "metadata": {
  "application/vnd.databricks.v1+notebook": {
   "computePreferences": null,
   "dashboards": [],
   "environmentMetadata": {
    "base_environment": "",
    "environment_version": "2"
   },
   "inputWidgetPreferences": null,
   "language": "python",
   "notebookMetadata": {
    "pythonIndentUnit": 4
   },
   "notebookName": "web_scraping_data_sources",
   "widgets": {}
  },
  "language_info": {
   "name": "python"
  }
 },
 "nbformat": 4,
 "nbformat_minor": 0
}
